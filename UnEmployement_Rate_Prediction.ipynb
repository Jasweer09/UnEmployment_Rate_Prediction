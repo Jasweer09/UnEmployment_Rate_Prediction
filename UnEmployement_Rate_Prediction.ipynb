{
 "cells": [
  {
   "cell_type": "code",
   "execution_count": 9,
   "id": "31baf104",
   "metadata": {},
   "outputs": [],
   "source": [
    "import pandas as pd"
   ]
  },
  {
   "cell_type": "code",
   "execution_count": 10,
   "id": "88e01081",
   "metadata": {},
   "outputs": [],
   "source": [
    "df_Unrate = pd.read_csv('UNRATE.csv')\n",
    "df_jtsjol = pd.read_csv('JTSJOL.csv')\n",
    "df_civpart = pd.read_csv('CIVPART.csv')\n",
    "df_icsa = pd.read_csv('fredgraph.csv')\n",
    "df_payems = pd.read_csv('PAYEMS.csv')"
   ]
  },
  {
   "cell_type": "code",
   "execution_count": 11,
   "id": "c0911098",
   "metadata": {},
   "outputs": [
    {
     "data": {
      "text/html": [
       "<div>\n",
       "<style scoped>\n",
       "    .dataframe tbody tr th:only-of-type {\n",
       "        vertical-align: middle;\n",
       "    }\n",
       "\n",
       "    .dataframe tbody tr th {\n",
       "        vertical-align: top;\n",
       "    }\n",
       "\n",
       "    .dataframe thead th {\n",
       "        text-align: right;\n",
       "    }\n",
       "</style>\n",
       "<table border=\"1\" class=\"dataframe\">\n",
       "  <thead>\n",
       "    <tr style=\"text-align: right;\">\n",
       "      <th></th>\n",
       "      <th>observation_date</th>\n",
       "      <th>UNRATE</th>\n",
       "    </tr>\n",
       "  </thead>\n",
       "  <tbody>\n",
       "    <tr>\n",
       "      <th>0</th>\n",
       "      <td>2000-12-01</td>\n",
       "      <td>3.9</td>\n",
       "    </tr>\n",
       "    <tr>\n",
       "      <th>1</th>\n",
       "      <td>2001-01-01</td>\n",
       "      <td>4.2</td>\n",
       "    </tr>\n",
       "    <tr>\n",
       "      <th>2</th>\n",
       "      <td>2001-02-01</td>\n",
       "      <td>4.2</td>\n",
       "    </tr>\n",
       "    <tr>\n",
       "      <th>3</th>\n",
       "      <td>2001-03-01</td>\n",
       "      <td>4.3</td>\n",
       "    </tr>\n",
       "    <tr>\n",
       "      <th>4</th>\n",
       "      <td>2001-04-01</td>\n",
       "      <td>4.4</td>\n",
       "    </tr>\n",
       "  </tbody>\n",
       "</table>\n",
       "</div>"
      ],
      "text/plain": [
       "  observation_date  UNRATE\n",
       "0       2000-12-01     3.9\n",
       "1       2001-01-01     4.2\n",
       "2       2001-02-01     4.2\n",
       "3       2001-03-01     4.3\n",
       "4       2001-04-01     4.4"
      ]
     },
     "execution_count": 11,
     "metadata": {},
     "output_type": "execute_result"
    }
   ],
   "source": [
    "df_Unrate.head()"
   ]
  },
  {
   "cell_type": "code",
   "execution_count": 12,
   "id": "8ca13fae",
   "metadata": {},
   "outputs": [
    {
     "data": {
      "text/html": [
       "<div>\n",
       "<style scoped>\n",
       "    .dataframe tbody tr th:only-of-type {\n",
       "        vertical-align: middle;\n",
       "    }\n",
       "\n",
       "    .dataframe tbody tr th {\n",
       "        vertical-align: top;\n",
       "    }\n",
       "\n",
       "    .dataframe thead th {\n",
       "        text-align: right;\n",
       "    }\n",
       "</style>\n",
       "<table border=\"1\" class=\"dataframe\">\n",
       "  <thead>\n",
       "    <tr style=\"text-align: right;\">\n",
       "      <th></th>\n",
       "      <th>observation_date</th>\n",
       "      <th>JTSJOL</th>\n",
       "    </tr>\n",
       "  </thead>\n",
       "  <tbody>\n",
       "    <tr>\n",
       "      <th>0</th>\n",
       "      <td>2000-12-01</td>\n",
       "      <td>5088</td>\n",
       "    </tr>\n",
       "    <tr>\n",
       "      <th>1</th>\n",
       "      <td>2001-01-01</td>\n",
       "      <td>5234</td>\n",
       "    </tr>\n",
       "    <tr>\n",
       "      <th>2</th>\n",
       "      <td>2001-02-01</td>\n",
       "      <td>5097</td>\n",
       "    </tr>\n",
       "    <tr>\n",
       "      <th>3</th>\n",
       "      <td>2001-03-01</td>\n",
       "      <td>4762</td>\n",
       "    </tr>\n",
       "    <tr>\n",
       "      <th>4</th>\n",
       "      <td>2001-04-01</td>\n",
       "      <td>4615</td>\n",
       "    </tr>\n",
       "  </tbody>\n",
       "</table>\n",
       "</div>"
      ],
      "text/plain": [
       "  observation_date  JTSJOL\n",
       "0       2000-12-01    5088\n",
       "1       2001-01-01    5234\n",
       "2       2001-02-01    5097\n",
       "3       2001-03-01    4762\n",
       "4       2001-04-01    4615"
      ]
     },
     "execution_count": 12,
     "metadata": {},
     "output_type": "execute_result"
    }
   ],
   "source": [
    "df_jtsjol.head()"
   ]
  },
  {
   "cell_type": "code",
   "execution_count": 13,
   "id": "4a7b8fee",
   "metadata": {},
   "outputs": [
    {
     "data": {
      "text/html": [
       "<div>\n",
       "<style scoped>\n",
       "    .dataframe tbody tr th:only-of-type {\n",
       "        vertical-align: middle;\n",
       "    }\n",
       "\n",
       "    .dataframe tbody tr th {\n",
       "        vertical-align: top;\n",
       "    }\n",
       "\n",
       "    .dataframe thead th {\n",
       "        text-align: right;\n",
       "    }\n",
       "</style>\n",
       "<table border=\"1\" class=\"dataframe\">\n",
       "  <thead>\n",
       "    <tr style=\"text-align: right;\">\n",
       "      <th></th>\n",
       "      <th>observation_date</th>\n",
       "      <th>CIVPART</th>\n",
       "    </tr>\n",
       "  </thead>\n",
       "  <tbody>\n",
       "    <tr>\n",
       "      <th>0</th>\n",
       "      <td>2000-12-01</td>\n",
       "      <td>67.0</td>\n",
       "    </tr>\n",
       "    <tr>\n",
       "      <th>1</th>\n",
       "      <td>2001-01-01</td>\n",
       "      <td>67.2</td>\n",
       "    </tr>\n",
       "    <tr>\n",
       "      <th>2</th>\n",
       "      <td>2001-02-01</td>\n",
       "      <td>67.1</td>\n",
       "    </tr>\n",
       "    <tr>\n",
       "      <th>3</th>\n",
       "      <td>2001-03-01</td>\n",
       "      <td>67.2</td>\n",
       "    </tr>\n",
       "    <tr>\n",
       "      <th>4</th>\n",
       "      <td>2001-04-01</td>\n",
       "      <td>66.9</td>\n",
       "    </tr>\n",
       "  </tbody>\n",
       "</table>\n",
       "</div>"
      ],
      "text/plain": [
       "  observation_date  CIVPART\n",
       "0       2000-12-01     67.0\n",
       "1       2001-01-01     67.2\n",
       "2       2001-02-01     67.1\n",
       "3       2001-03-01     67.2\n",
       "4       2001-04-01     66.9"
      ]
     },
     "execution_count": 13,
     "metadata": {},
     "output_type": "execute_result"
    }
   ],
   "source": [
    "df_civpart.head()"
   ]
  },
  {
   "cell_type": "code",
   "execution_count": 14,
   "id": "b978c538",
   "metadata": {},
   "outputs": [
    {
     "data": {
      "text/html": [
       "<div>\n",
       "<style scoped>\n",
       "    .dataframe tbody tr th:only-of-type {\n",
       "        vertical-align: middle;\n",
       "    }\n",
       "\n",
       "    .dataframe tbody tr th {\n",
       "        vertical-align: top;\n",
       "    }\n",
       "\n",
       "    .dataframe thead th {\n",
       "        text-align: right;\n",
       "    }\n",
       "</style>\n",
       "<table border=\"1\" class=\"dataframe\">\n",
       "  <thead>\n",
       "    <tr style=\"text-align: right;\">\n",
       "      <th></th>\n",
       "      <th>observation_date</th>\n",
       "      <th>ICSA</th>\n",
       "      <th>ICNSA</th>\n",
       "      <th>CCSA</th>\n",
       "      <th>CCNSA</th>\n",
       "    </tr>\n",
       "  </thead>\n",
       "  <tbody>\n",
       "    <tr>\n",
       "      <th>0</th>\n",
       "      <td>2000-12-02</td>\n",
       "      <td>338000</td>\n",
       "      <td>447262</td>\n",
       "      <td>2229000.0</td>\n",
       "      <td>2211195.0</td>\n",
       "    </tr>\n",
       "    <tr>\n",
       "      <th>1</th>\n",
       "      <td>2000-12-09</td>\n",
       "      <td>321000</td>\n",
       "      <td>390088</td>\n",
       "      <td>2263000.0</td>\n",
       "      <td>2315331.0</td>\n",
       "    </tr>\n",
       "    <tr>\n",
       "      <th>2</th>\n",
       "      <td>2000-12-16</td>\n",
       "      <td>354000</td>\n",
       "      <td>402476</td>\n",
       "      <td>2322000.0</td>\n",
       "      <td>2356340.0</td>\n",
       "    </tr>\n",
       "    <tr>\n",
       "      <th>3</th>\n",
       "      <td>2000-12-23</td>\n",
       "      <td>364000</td>\n",
       "      <td>481720</td>\n",
       "      <td>2340000.0</td>\n",
       "      <td>2525315.0</td>\n",
       "    </tr>\n",
       "    <tr>\n",
       "      <th>4</th>\n",
       "      <td>2000-12-30</td>\n",
       "      <td>353000</td>\n",
       "      <td>568973</td>\n",
       "      <td>2378000.0</td>\n",
       "      <td>2983919.0</td>\n",
       "    </tr>\n",
       "  </tbody>\n",
       "</table>\n",
       "</div>"
      ],
      "text/plain": [
       "  observation_date    ICSA   ICNSA       CCSA      CCNSA\n",
       "0       2000-12-02  338000  447262  2229000.0  2211195.0\n",
       "1       2000-12-09  321000  390088  2263000.0  2315331.0\n",
       "2       2000-12-16  354000  402476  2322000.0  2356340.0\n",
       "3       2000-12-23  364000  481720  2340000.0  2525315.0\n",
       "4       2000-12-30  353000  568973  2378000.0  2983919.0"
      ]
     },
     "execution_count": 14,
     "metadata": {},
     "output_type": "execute_result"
    }
   ],
   "source": [
    "df_icsa.head()"
   ]
  },
  {
   "cell_type": "code",
   "execution_count": 15,
   "id": "0aee5496",
   "metadata": {},
   "outputs": [
    {
     "data": {
      "text/html": [
       "<div>\n",
       "<style scoped>\n",
       "    .dataframe tbody tr th:only-of-type {\n",
       "        vertical-align: middle;\n",
       "    }\n",
       "\n",
       "    .dataframe tbody tr th {\n",
       "        vertical-align: top;\n",
       "    }\n",
       "\n",
       "    .dataframe thead th {\n",
       "        text-align: right;\n",
       "    }\n",
       "</style>\n",
       "<table border=\"1\" class=\"dataframe\">\n",
       "  <thead>\n",
       "    <tr style=\"text-align: right;\">\n",
       "      <th></th>\n",
       "      <th>observation_date</th>\n",
       "      <th>PAYEMS</th>\n",
       "    </tr>\n",
       "  </thead>\n",
       "  <tbody>\n",
       "    <tr>\n",
       "      <th>0</th>\n",
       "      <td>2000-12-01</td>\n",
       "      <td>132716</td>\n",
       "    </tr>\n",
       "    <tr>\n",
       "      <th>1</th>\n",
       "      <td>2001-01-01</td>\n",
       "      <td>132703</td>\n",
       "    </tr>\n",
       "    <tr>\n",
       "      <th>2</th>\n",
       "      <td>2001-02-01</td>\n",
       "      <td>132788</td>\n",
       "    </tr>\n",
       "    <tr>\n",
       "      <th>3</th>\n",
       "      <td>2001-03-01</td>\n",
       "      <td>132751</td>\n",
       "    </tr>\n",
       "    <tr>\n",
       "      <th>4</th>\n",
       "      <td>2001-04-01</td>\n",
       "      <td>132457</td>\n",
       "    </tr>\n",
       "  </tbody>\n",
       "</table>\n",
       "</div>"
      ],
      "text/plain": [
       "  observation_date  PAYEMS\n",
       "0       2000-12-01  132716\n",
       "1       2001-01-01  132703\n",
       "2       2001-02-01  132788\n",
       "3       2001-03-01  132751\n",
       "4       2001-04-01  132457"
      ]
     },
     "execution_count": 15,
     "metadata": {},
     "output_type": "execute_result"
    }
   ],
   "source": [
    "df_payems.head()"
   ]
  },
  {
   "cell_type": "code",
   "execution_count": 16,
   "id": "c18cee7d",
   "metadata": {},
   "outputs": [],
   "source": [
    "import pandas as pd\n",
    "df_Unrate['observation_date'] = pd.to_datetime(df_Unrate['observation_date'])\n",
    "df_jtsjol['observation_date'] = pd.to_datetime(df_jtsjol['observation_date'])\n",
    "df_civpart['observation_date'] = pd.to_datetime(df_civpart['observation_date'])\n",
    "df_icsa['observation_date'] = pd.to_datetime(df_icsa['observation_date'])\n",
    "df_payems['observation_date'] = pd.to_datetime(df_payems['observation_date'])"
   ]
  },
  {
   "cell_type": "code",
   "execution_count": 17,
   "id": "d0e32db4",
   "metadata": {},
   "outputs": [
    {
     "name": "stdout",
     "output_type": "stream",
     "text": [
      "(294, 2) (293, 2) (294, 2) (1282, 5) (294, 2)\n"
     ]
    }
   ],
   "source": [
    "print(df_Unrate.shape, df_jtsjol.shape, df_civpart.shape, df_icsa.shape, df_payems.shape)"
   ]
  },
  {
   "cell_type": "code",
   "execution_count": 18,
   "id": "9faa9e48",
   "metadata": {},
   "outputs": [
    {
     "data": {
      "text/html": [
       "<div>\n",
       "<style scoped>\n",
       "    .dataframe tbody tr th:only-of-type {\n",
       "        vertical-align: middle;\n",
       "    }\n",
       "\n",
       "    .dataframe tbody tr th {\n",
       "        vertical-align: top;\n",
       "    }\n",
       "\n",
       "    .dataframe thead th {\n",
       "        text-align: right;\n",
       "    }\n",
       "</style>\n",
       "<table border=\"1\" class=\"dataframe\">\n",
       "  <thead>\n",
       "    <tr style=\"text-align: right;\">\n",
       "      <th></th>\n",
       "      <th>ICSA</th>\n",
       "      <th>ICNSA</th>\n",
       "      <th>CCSA</th>\n",
       "      <th>CCNSA</th>\n",
       "    </tr>\n",
       "    <tr>\n",
       "      <th>observation_date</th>\n",
       "      <th></th>\n",
       "      <th></th>\n",
       "      <th></th>\n",
       "      <th></th>\n",
       "    </tr>\n",
       "  </thead>\n",
       "  <tbody>\n",
       "    <tr>\n",
       "      <th>2000-12-02</th>\n",
       "      <td>338000</td>\n",
       "      <td>447262</td>\n",
       "      <td>2229000.0</td>\n",
       "      <td>2211195.0</td>\n",
       "    </tr>\n",
       "    <tr>\n",
       "      <th>2000-12-09</th>\n",
       "      <td>321000</td>\n",
       "      <td>390088</td>\n",
       "      <td>2263000.0</td>\n",
       "      <td>2315331.0</td>\n",
       "    </tr>\n",
       "    <tr>\n",
       "      <th>2000-12-16</th>\n",
       "      <td>354000</td>\n",
       "      <td>402476</td>\n",
       "      <td>2322000.0</td>\n",
       "      <td>2356340.0</td>\n",
       "    </tr>\n",
       "    <tr>\n",
       "      <th>2000-12-23</th>\n",
       "      <td>364000</td>\n",
       "      <td>481720</td>\n",
       "      <td>2340000.0</td>\n",
       "      <td>2525315.0</td>\n",
       "    </tr>\n",
       "    <tr>\n",
       "      <th>2000-12-30</th>\n",
       "      <td>353000</td>\n",
       "      <td>568973</td>\n",
       "      <td>2378000.0</td>\n",
       "      <td>2983919.0</td>\n",
       "    </tr>\n",
       "  </tbody>\n",
       "</table>\n",
       "</div>"
      ],
      "text/plain": [
       "                    ICSA   ICNSA       CCSA      CCNSA\n",
       "observation_date                                      \n",
       "2000-12-02        338000  447262  2229000.0  2211195.0\n",
       "2000-12-09        321000  390088  2263000.0  2315331.0\n",
       "2000-12-16        354000  402476  2322000.0  2356340.0\n",
       "2000-12-23        364000  481720  2340000.0  2525315.0\n",
       "2000-12-30        353000  568973  2378000.0  2983919.0"
      ]
     },
     "execution_count": 18,
     "metadata": {},
     "output_type": "execute_result"
    }
   ],
   "source": [
    "#inorder to perform the resampling we need to make the date column as index column\n",
    "df_icsa.set_index('observation_date', inplace=True)\n",
    "df_icsa.head()\n"
   ]
  },
  {
   "cell_type": "code",
   "execution_count": 19,
   "id": "3eb6852b",
   "metadata": {},
   "outputs": [
    {
     "name": "stdout",
     "output_type": "stream",
     "text": [
      "  observation_date     ICSA    ICNSA        CCSA       CCNSA\n",
      "0       2000-12-01  1730000  2290519  11532000.0  12392100.0\n",
      "1       2001-01-01  1360000  2003904   9583000.0  11898894.0\n",
      "2       2001-02-01  1485000  1524279   9946000.0  12009066.0\n",
      "3       2001-03-01  1936000  1771316  12927000.0  14706259.0\n",
      "4       2001-04-01  1587000  1467839  10789000.0  10892973.0\n"
     ]
    }
   ],
   "source": [
    "#making the data from weekly to montly wise\n",
    "df_icsa = df_icsa.resample('MS').sum().reset_index()\n",
    "print(df_icsa.head())"
   ]
  },
  {
   "cell_type": "code",
   "execution_count": 20,
   "id": "f3516009",
   "metadata": {},
   "outputs": [
    {
     "data": {
      "text/html": [
       "<div>\n",
       "<style scoped>\n",
       "    .dataframe tbody tr th:only-of-type {\n",
       "        vertical-align: middle;\n",
       "    }\n",
       "\n",
       "    .dataframe tbody tr th {\n",
       "        vertical-align: top;\n",
       "    }\n",
       "\n",
       "    .dataframe thead th {\n",
       "        text-align: right;\n",
       "    }\n",
       "</style>\n",
       "<table border=\"1\" class=\"dataframe\">\n",
       "  <thead>\n",
       "    <tr style=\"text-align: right;\">\n",
       "      <th></th>\n",
       "      <th>observation_date</th>\n",
       "      <th>UNRATE</th>\n",
       "      <th>JTSJOL</th>\n",
       "      <th>CIVPART</th>\n",
       "      <th>ICSA</th>\n",
       "      <th>ICNSA</th>\n",
       "      <th>CCSA</th>\n",
       "      <th>CCNSA</th>\n",
       "      <th>PAYEMS</th>\n",
       "    </tr>\n",
       "  </thead>\n",
       "  <tbody>\n",
       "    <tr>\n",
       "      <th>0</th>\n",
       "      <td>2000-12-01</td>\n",
       "      <td>3.9</td>\n",
       "      <td>5088.0</td>\n",
       "      <td>67.0</td>\n",
       "      <td>1730000</td>\n",
       "      <td>2290519</td>\n",
       "      <td>11532000.0</td>\n",
       "      <td>12392100.0</td>\n",
       "      <td>132716.0</td>\n",
       "    </tr>\n",
       "    <tr>\n",
       "      <th>1</th>\n",
       "      <td>2001-01-01</td>\n",
       "      <td>4.2</td>\n",
       "      <td>5234.0</td>\n",
       "      <td>67.2</td>\n",
       "      <td>1360000</td>\n",
       "      <td>2003904</td>\n",
       "      <td>9583000.0</td>\n",
       "      <td>11898894.0</td>\n",
       "      <td>132703.0</td>\n",
       "    </tr>\n",
       "    <tr>\n",
       "      <th>2</th>\n",
       "      <td>2001-02-01</td>\n",
       "      <td>4.2</td>\n",
       "      <td>5097.0</td>\n",
       "      <td>67.1</td>\n",
       "      <td>1485000</td>\n",
       "      <td>1524279</td>\n",
       "      <td>9946000.0</td>\n",
       "      <td>12009066.0</td>\n",
       "      <td>132788.0</td>\n",
       "    </tr>\n",
       "    <tr>\n",
       "      <th>3</th>\n",
       "      <td>2001-03-01</td>\n",
       "      <td>4.3</td>\n",
       "      <td>4762.0</td>\n",
       "      <td>67.2</td>\n",
       "      <td>1936000</td>\n",
       "      <td>1771316</td>\n",
       "      <td>12927000.0</td>\n",
       "      <td>14706259.0</td>\n",
       "      <td>132751.0</td>\n",
       "    </tr>\n",
       "    <tr>\n",
       "      <th>4</th>\n",
       "      <td>2001-04-01</td>\n",
       "      <td>4.4</td>\n",
       "      <td>4615.0</td>\n",
       "      <td>66.9</td>\n",
       "      <td>1587000</td>\n",
       "      <td>1467839</td>\n",
       "      <td>10789000.0</td>\n",
       "      <td>10892973.0</td>\n",
       "      <td>132457.0</td>\n",
       "    </tr>\n",
       "  </tbody>\n",
       "</table>\n",
       "</div>"
      ],
      "text/plain": [
       "  observation_date  UNRATE  JTSJOL  CIVPART     ICSA    ICNSA        CCSA  \\\n",
       "0       2000-12-01     3.9  5088.0     67.0  1730000  2290519  11532000.0   \n",
       "1       2001-01-01     4.2  5234.0     67.2  1360000  2003904   9583000.0   \n",
       "2       2001-02-01     4.2  5097.0     67.1  1485000  1524279   9946000.0   \n",
       "3       2001-03-01     4.3  4762.0     67.2  1936000  1771316  12927000.0   \n",
       "4       2001-04-01     4.4  4615.0     66.9  1587000  1467839  10789000.0   \n",
       "\n",
       "        CCNSA    PAYEMS  \n",
       "0  12392100.0  132716.0  \n",
       "1  11898894.0  132703.0  \n",
       "2  12009066.0  132788.0  \n",
       "3  14706259.0  132751.0  \n",
       "4  10892973.0  132457.0  "
      ]
     },
     "execution_count": 20,
     "metadata": {},
     "output_type": "execute_result"
    }
   ],
   "source": [
    "df = df_Unrate.merge(df_jtsjol, on = 'observation_date', how = 'outer').merge(df_civpart, on='observation_date', how = 'outer').merge(df_icsa, on='observation_date', how = 'outer').merge(df_payems, on='observation_date', how = 'outer')\n",
    "df.head()"
   ]
  },
  {
   "cell_type": "code",
   "execution_count": 21,
   "id": "adbee478",
   "metadata": {},
   "outputs": [
    {
     "data": {
      "text/plain": [
       "observation_date    0\n",
       "UNRATE              1\n",
       "JTSJOL              2\n",
       "CIVPART             1\n",
       "ICSA                0\n",
       "ICNSA               0\n",
       "CCSA                0\n",
       "CCNSA               0\n",
       "PAYEMS              1\n",
       "dtype: int64"
      ]
     },
     "execution_count": 21,
     "metadata": {},
     "output_type": "execute_result"
    }
   ],
   "source": [
    "df.isna().sum()"
   ]
  },
  {
   "cell_type": "code",
   "execution_count": 22,
   "id": "1a527423",
   "metadata": {},
   "outputs": [],
   "source": [
    "#handling the missing values using interpolation\n",
    "df.interpolate(method='linear',inplace=True)"
   ]
  },
  {
   "cell_type": "code",
   "execution_count": 23,
   "id": "154f4c7e",
   "metadata": {},
   "outputs": [
    {
     "data": {
      "text/plain": [
       "observation_date    0\n",
       "UNRATE              0\n",
       "JTSJOL              0\n",
       "CIVPART             0\n",
       "ICSA                0\n",
       "ICNSA               0\n",
       "CCSA                0\n",
       "CCNSA               0\n",
       "PAYEMS              0\n",
       "dtype: int64"
      ]
     },
     "execution_count": 23,
     "metadata": {},
     "output_type": "execute_result"
    }
   ],
   "source": [
    "df.isna().sum()"
   ]
  },
  {
   "cell_type": "code",
   "execution_count": 24,
   "id": "053d73ca",
   "metadata": {},
   "outputs": [
    {
     "data": {
      "text/plain": [
       "np.int64(0)"
      ]
     },
     "execution_count": 24,
     "metadata": {},
     "output_type": "execute_result"
    }
   ],
   "source": [
    "#Identifying the duplicate values\n",
    "df.duplicated().sum()"
   ]
  },
  {
   "cell_type": "code",
   "execution_count": 25,
   "id": "f857dd77",
   "metadata": {},
   "outputs": [
    {
     "data": {
      "image/png": "[encoded data removed]",
      "text/plain": [
       "<Figure size 640x480 with 1 Axes>"
      ]
     },
     "metadata": {},
     "output_type": "display_data"
    },
    {
     "data": {
      "image/png": "[encoded data removed]",
      "text/plain": [
       "<Figure size 640x480 with 1 Axes>"
      ]
     },
     "metadata": {},
     "output_type": "display_data"
    },
    {
     "data": {
      "image/png": "[encoded data removed]",
      "text/plain": [
       "<Figure size 640x480 with 1 Axes>"
      ]
     },
     "metadata": {},
     "output_type": "display_data"
    },
    {
     "data": {
      "image/png": "[encoded data removed]",
      "text/plain": [
       "<Figure size 640x480 with 1 Axes>"
      ]
     },
     "metadata": {},
     "output_type": "display_data"
    },
    {
     "data": {
      "image/png": "[encoded data removed]",
      "text/plain": [
       "<Figure size 640x480 with 1 Axes>"
      ]
     },
     "metadata": {},
     "output_type": "display_data"
    },
    {
     "data": {
      "image/png": "[encoded data removed]",
      "text/plain": [
       "<Figure size 640x480 with 1 Axes>"
      ]
     },
     "metadata": {},
     "output_type": "display_data"
    },
    {
     "data": {
      "image/png": "[encoded data removed]",
      "text/plain": [
       "<Figure size 640x480 with 1 Axes>"
      ]
     },
     "metadata": {},
     "output_type": "display_data"
    },
    {
     "data": {
      "image/png": "[encoded data removed]",
      "text/plain": [
       "<Figure size 640x480 with 1 Axes>"
      ]
     },
     "metadata": {},
     "output_type": "display_data"
    }
   ],
   "source": [
    "#identifying the outliers using the boxplot\n",
    "import seaborn as sns\n",
    "import matplotlib.pyplot as plt\n",
    "feature_names = ['UNRATE','JTSJOL','CIVPART','ICSA','ICNSA','CCSA','CCNSA','PAYEMS']\n",
    "for feature in feature_names:\n",
    "    sns.boxplot(data = df, x = feature)\n",
    "    plt.title(f'Barplot for {feature}')\n",
    "    plt.show()"
   ]
  },
  {
   "cell_type": "code",
   "execution_count": 26,
   "id": "3f978169",
   "metadata": {},
   "outputs": [
    {
     "data": {
      "text/plain": [
       "<Axes: xlabel='ICSA', ylabel='Count'>"
      ]
     },
     "execution_count": 26,
     "metadata": {},
     "output_type": "execute_result"
    },
    {
     "data": {
      "image/png": "[encoded data removed]",
      "text/plain": [
       "<Figure size 640x480 with 1 Axes>"
      ]
     },
     "metadata": {},
     "output_type": "display_data"
    }
   ],
   "source": [
    "sns.histplot(df['ICSA'], kde=True)"
   ]
  },
  {
   "cell_type": "code",
   "execution_count": 27,
   "id": "13b4c135",
   "metadata": {},
   "outputs": [
    {
     "name": "stderr",
     "output_type": "stream",
     "text": [
      "C:\\Users\\jaswe\\AppData\\Local\\Temp\\ipykernel_36192\\995403403.py:5: FutureWarning: Downcasting behavior in Series and DataFrame methods 'where', 'mask', and 'clip' is deprecated. In a future version this will not infer object dtypes or cast all-round floats to integers. Instead call result.infer_objects(copy=False) for object inference, or cast round floats explicitly. To opt-in to the future behavior, set `pd.set_option('future.no_silent_downcasting', True)`\n",
      "  df[feature] = df[feature].clip(lower=lower_limit, upper=upper_limit)\n"
     ]
    }
   ],
   "source": [
    "#handling the outliers using the winsorization technique\n",
    "for feature in feature_names:\n",
    "    lower_limit = df[feature].quantile(0.05)\n",
    "    upper_limit = df[feature].quantile(0.95)\n",
    "    df[feature] = df[feature].clip(lower=lower_limit, upper=upper_limit)"
   ]
  },
  {
   "cell_type": "markdown",
   "id": "d447989d",
   "metadata": {},
   "source": [
    "##Feature Engineering"
   ]
  },
  {
   "cell_type": "code",
   "execution_count": 28,
   "id": "dfd63d1a",
   "metadata": {},
   "outputs": [],
   "source": [
    "#Creating the lag features\n",
    "for feature in feature_names:\n",
    "    for lag in range(1, 5):\n",
    "        df[f'{feature}_lag_{lag}'] = df[feature].shift(lag)\n",
    "    #Creating the rolling mean features\n",
    "    for window in [3, 6]:\n",
    "        df[f'{feature}_rolling_mean_{window}'] = df[feature].rolling(window=window).mean()\n",
    "        df[f'{feature}_rolling_std_{window}'] = df[feature].rolling(window=window).std()\n",
    "#Dropping the null values created by the lag and rolling features\n",
    "df.dropna(inplace=True)"
   ]
  },
  {
   "cell_type": "code",
   "execution_count": 29,
   "id": "3de4c443",
   "metadata": {},
   "outputs": [
    {
     "data": {
      "text/plain": [
       "Index(['observation_date', 'UNRATE', 'JTSJOL', 'CIVPART', 'ICSA', 'ICNSA',\n",
       "       'CCSA', 'CCNSA', 'PAYEMS', 'UNRATE_lag_1', 'UNRATE_lag_2',\n",
       "       'UNRATE_lag_3', 'UNRATE_lag_4', 'UNRATE_rolling_mean_3',\n",
       "       'UNRATE_rolling_std_3', 'UNRATE_rolling_mean_6', 'UNRATE_rolling_std_6',\n",
       "       'JTSJOL_lag_1', 'JTSJOL_lag_2', 'JTSJOL_lag_3', 'JTSJOL_lag_4',\n",
       "       'JTSJOL_rolling_mean_3', 'JTSJOL_rolling_std_3',\n",
       "       'JTSJOL_rolling_mean_6', 'JTSJOL_rolling_std_6', 'CIVPART_lag_1',\n",
       "       'CIVPART_lag_2', 'CIVPART_lag_3', 'CIVPART_lag_4',\n",
       "       'CIVPART_rolling_mean_3', 'CIVPART_rolling_std_3',\n",
       "       'CIVPART_rolling_mean_6', 'CIVPART_rolling_std_6', 'ICSA_lag_1',\n",
       "       'ICSA_lag_2', 'ICSA_lag_3', 'ICSA_lag_4', 'ICSA_rolling_mean_3',\n",
       "       'ICSA_rolling_std_3', 'ICSA_rolling_mean_6', 'ICSA_rolling_std_6',\n",
       "       'ICNSA_lag_1', 'ICNSA_lag_2', 'ICNSA_lag_3', 'ICNSA_lag_4',\n",
       "       'ICNSA_rolling_mean_3', 'ICNSA_rolling_std_3', 'ICNSA_rolling_mean_6',\n",
       "       'ICNSA_rolling_std_6', 'CCSA_lag_1', 'CCSA_lag_2', 'CCSA_lag_3',\n",
       "       'CCSA_lag_4', 'CCSA_rolling_mean_3', 'CCSA_rolling_std_3',\n",
       "       'CCSA_rolling_mean_6', 'CCSA_rolling_std_6', 'CCNSA_lag_1',\n",
       "       'CCNSA_lag_2', 'CCNSA_lag_3', 'CCNSA_lag_4', 'CCNSA_rolling_mean_3',\n",
       "       'CCNSA_rolling_std_3', 'CCNSA_rolling_mean_6', 'CCNSA_rolling_std_6',\n",
       "       'PAYEMS_lag_1', 'PAYEMS_lag_2', 'PAYEMS_lag_3', 'PAYEMS_lag_4',\n",
       "       'PAYEMS_rolling_mean_3', 'PAYEMS_rolling_std_3',\n",
       "       'PAYEMS_rolling_mean_6', 'PAYEMS_rolling_std_6'],\n",
       "      dtype='object')"
      ]
     },
     "execution_count": 29,
     "metadata": {},
     "output_type": "execute_result"
    }
   ],
   "source": [
    "df.columns"
   ]
  },
  {
   "cell_type": "code",
   "execution_count": 30,
   "id": "b5ee84c6",
   "metadata": {},
   "outputs": [],
   "source": [
    "\n",
    "df['observation_date'] = pd.to_datetime(df['observation_date'])"
   ]
  },
  {
   "cell_type": "code",
   "execution_count": 31,
   "id": "c5895829",
   "metadata": {},
   "outputs": [],
   "source": [
    "df['month'] = df['observation_date'].dt.month\n",
    "df['year'] = df['observation_date'].dt.year\n",
    "df['quarter'] = df['observation_date'].dt.quarter\n",
    "df.drop('observation_date', inplace= True, axis =1)"
   ]
  },
  {
   "cell_type": "code",
   "execution_count": 32,
   "id": "5cc4513f",
   "metadata": {},
   "outputs": [
    {
     "data": {
      "text/plain": [
       "Index(['UNRATE', 'JTSJOL', 'CIVPART', 'ICSA', 'ICNSA', 'CCSA', 'CCNSA',\n",
       "       'PAYEMS', 'UNRATE_lag_1', 'UNRATE_lag_2', 'UNRATE_lag_3',\n",
       "       'UNRATE_lag_4', 'UNRATE_rolling_mean_3', 'UNRATE_rolling_std_3',\n",
       "       'UNRATE_rolling_mean_6', 'UNRATE_rolling_std_6', 'JTSJOL_lag_1',\n",
       "       'JTSJOL_lag_2', 'JTSJOL_lag_3', 'JTSJOL_lag_4', 'JTSJOL_rolling_mean_3',\n",
       "       'JTSJOL_rolling_std_3', 'JTSJOL_rolling_mean_6', 'JTSJOL_rolling_std_6',\n",
       "       'CIVPART_lag_1', 'CIVPART_lag_2', 'CIVPART_lag_3', 'CIVPART_lag_4',\n",
       "       'CIVPART_rolling_mean_3', 'CIVPART_rolling_std_3',\n",
       "       'CIVPART_rolling_mean_6', 'CIVPART_rolling_std_6', 'ICSA_lag_1',\n",
       "       'ICSA_lag_2', 'ICSA_lag_3', 'ICSA_lag_4', 'ICSA_rolling_mean_3',\n",
       "       'ICSA_rolling_std_3', 'ICSA_rolling_mean_6', 'ICSA_rolling_std_6',\n",
       "       'ICNSA_lag_1', 'ICNSA_lag_2', 'ICNSA_lag_3', 'ICNSA_lag_4',\n",
       "       'ICNSA_rolling_mean_3', 'ICNSA_rolling_std_3', 'ICNSA_rolling_mean_6',\n",
       "       'ICNSA_rolling_std_6', 'CCSA_lag_1', 'CCSA_lag_2', 'CCSA_lag_3',\n",
       "       'CCSA_lag_4', 'CCSA_rolling_mean_3', 'CCSA_rolling_std_3',\n",
       "       'CCSA_rolling_mean_6', 'CCSA_rolling_std_6', 'CCNSA_lag_1',\n",
       "       'CCNSA_lag_2', 'CCNSA_lag_3', 'CCNSA_lag_4', 'CCNSA_rolling_mean_3',\n",
       "       'CCNSA_rolling_std_3', 'CCNSA_rolling_mean_6', 'CCNSA_rolling_std_6',\n",
       "       'PAYEMS_lag_1', 'PAYEMS_lag_2', 'PAYEMS_lag_3', 'PAYEMS_lag_4',\n",
       "       'PAYEMS_rolling_mean_3', 'PAYEMS_rolling_std_3',\n",
       "       'PAYEMS_rolling_mean_6', 'PAYEMS_rolling_std_6', 'month', 'year',\n",
       "       'quarter'],\n",
       "      dtype='object')"
      ]
     },
     "execution_count": 32,
     "metadata": {},
     "output_type": "execute_result"
    }
   ],
   "source": [
    "df.columns"
   ]
  },
  {
   "cell_type": "code",
   "execution_count": 33,
   "id": "7a296e54",
   "metadata": {},
   "outputs": [],
   "source": [
    "y = df['UNRATE']\n",
    "X = df.iloc[:,1:]"
   ]
  },
  {
   "cell_type": "code",
   "execution_count": 34,
   "id": "6d2d1d12",
   "metadata": {},
   "outputs": [
    {
     "name": "stdout",
     "output_type": "stream",
     "text": [
      "Xtrain leng is (50, 74), Xtest leng is (48, 74)\n",
      "Xtrain leng is (98, 74), Xtest leng is (48, 74)\n",
      "Xtrain leng is (146, 74), Xtest leng is (48, 74)\n",
      "Xtrain leng is (194, 74), Xtest leng is (48, 74)\n",
      "Xtrain leng is (242, 74), Xtest leng is (48, 74)\n"
     ]
    }
   ],
   "source": [
    "#Dividing the data using the Timeseries split to avoid datalekage\n",
    "from sklearn.model_selection import TimeSeriesSplit\n",
    "tscv = TimeSeriesSplit(n_splits=5)\n",
    "for train_index, test_index in tscv.split(X):\n",
    "    X_train, X_test = X.iloc[train_index], X.iloc[test_index]\n",
    "    print(f'Xtrain leng is {X_train.shape}, Xtest leng is {X_test.shape}')\n",
    "    y_train, y_test = y.iloc[train_index], y.iloc[test_index]\n"
   ]
  },
  {
   "cell_type": "code",
   "execution_count": 35,
   "id": "0cd27d2c",
   "metadata": {},
   "outputs": [],
   "source": [
    "from sklearn.preprocessing import StandardScaler\n",
    "from sklearn.metrics import mean_squared_error, r2_score\n",
    "from sklearn.linear_model import RidgeCV\n",
    "import numpy as np\n",
    "scaler = StandardScaler()\n",
    "X_train_scaled = scaler.fit_transform(X_train)\n",
    "X_test_scaled = scaler.transform(X_test)\n",
    "\n"
   ]
  },
  {
   "cell_type": "code",
   "execution_count": 36,
   "id": "1b013e7d",
   "metadata": {},
   "outputs": [
    {
     "name": "stdout",
     "output_type": "stream",
     "text": [
      "(242, 74) (242,)\n"
     ]
    }
   ],
   "source": [
    "print(X_train_scaled.shape, y_train.shape)"
   ]
  },
  {
   "cell_type": "code",
   "execution_count": 37,
   "id": "593f7fcd",
   "metadata": {},
   "outputs": [
    {
     "name": "stdout",
     "output_type": "stream",
     "text": [
      "Best alpha: 0.07847599703514611\n",
      "r2_score:0.9343710551910228\n",
      "rootmeansquare: 0.009757747974723627\n"
     ]
    }
   ],
   "source": [
    "#generating the aplhas from 0.001 to 1000\n",
    "aplhas = np.logspace(-3, 3, 20)\n",
    "model = RidgeCV(aplhas, cv = TimeSeriesSplit(5), scoring = 'r2')\n",
    "model.fit(X_train_scaled, y_train)\n",
    "\n",
    "y_pred = model.predict(X_test_scaled)\n",
    "r2 = r2_score(y_test, y_pred)\n",
    "rmse = mean_squared_error(y_test, y_pred)\n",
    "\n",
    "print(f'Best alpha: {model.alpha_}')\n",
    "print(f'r2_score:{r2}')\n",
    "print(f'rootmeansquare: {rmse}')"
   ]
  },
  {
   "cell_type": "code",
   "execution_count": 38,
   "id": "9834ef46",
   "metadata": {},
   "outputs": [
    {
     "name": "stderr",
     "output_type": "stream",
     "text": [
      "2025/07/06 19:33:47 WARNING mlflow.models.model: `artifact_path` is deprecated. Please use `name` instead.\n",
      "2025/07/06 19:33:53 WARNING mlflow.models.model: Model logged without a signature and input example. Please set `input_example` parameter when logging the model to auto infer the model signature.\n"
     ]
    },
    {
     "data": {
      "text/plain": [
       "<ModelVersion: aliases=[], creation_timestamp=1751844833143, current_stage='None', deployment_job_state=None, description=None, last_updated_timestamp=1751844833143, metrics=None, model_id=None, name='FinalRidgeModel', params=None, run_id='db691af175924fdc8f9d65a6aecc900e', run_link=None, source='runs:/db691af175924fdc8f9d65a6aecc900e/model', status='READY', status_message=None, tags={}, user_id=None, version=6>"
      ]
     },
     "execution_count": 38,
     "metadata": {},
     "output_type": "execute_result"
    }
   ],
   "source": [
    "import mlflow\n",
    "from mlflow.tracking import MlflowClient\n",
    "with mlflow.start_run() as run:\n",
    "    mlflow.sklearn.log_model(model, \"model\")\n",
    "    mlflow.log_metric(\"r2_score\", r2)  # ✅ Ensure primitive type\n",
    "    run_id = run.info.run_id\n",
    "\n",
    "# Register a new model version\n",
    "model_uri = f\"runs:/{run_id}/model\"\n",
    "client = MlflowClient()\n",
    "client.create_model_version(\"FinalRidgeModel\", model_uri, run_id)"
   ]
  },
  {
   "cell_type": "code",
   "execution_count": 89,
   "id": "77937252",
   "metadata": {},
   "outputs": [
    {
     "name": "stderr",
     "output_type": "stream",
     "text": [
      "2025/07/06 18:59:21 WARNING mlflow.models.model: `artifact_path` is deprecated. Please use `name` instead.\n",
      "2025/07/06 18:59:24 WARNING mlflow.models.model: Model logged without a signature and input example. Please set `input_example` parameter when logging the model to auto infer the model signature.\n"
     ]
    }
   ],
   "source": [
    "mlflow.sklearn.log_model(model, 'Ridge Model')\n",
    "mlflow.end_run()"
   ]
  },
  {
   "cell_type": "code",
   "execution_count": 81,
   "id": "a021d01f",
   "metadata": {},
   "outputs": [],
   "source": [
    "mlflow.end_run()"
   ]
  },
  {
   "cell_type": "code",
   "execution_count": 40,
   "id": "6aff682c",
   "metadata": {},
   "outputs": [
    {
     "name": "stderr",
     "output_type": "stream",
     "text": [
      "c:\\Users\\jaswe\\OneDrive\\Desktop\\opt\\Projects\\UnEmployment_Rate_Prediction\\venv\\Lib\\site-packages\\statsmodels\\stats\\outliers_influence.py:197: RuntimeWarning: divide by zero encountered in scalar divide\n",
      "  vif = 1. / (1. - r_squared_i)\n"
     ]
    },
    {
     "name": "stdout",
     "output_type": "stream",
     "text": [
      "                  Feature       VIF\n",
      "0                  JTSJOL       inf\n",
      "1                 CIVPART       inf\n",
      "2                    ICSA       inf\n",
      "3                   ICNSA       inf\n",
      "4                    CCSA       inf\n",
      "..                    ...       ...\n",
      "30  CIVPART_rolling_std_6  7.568898\n",
      "44    ICNSA_rolling_std_3  6.026266\n",
      "60    CCNSA_rolling_std_3  5.969483\n",
      "20   JTSJOL_rolling_std_3  5.016214\n",
      "28  CIVPART_rolling_std_3  3.870022\n",
      "\n",
      "[74 rows x 2 columns]\n"
     ]
    }
   ],
   "source": [
    "#checking the Multicollinearity\n",
    "from statsmodels.stats.outliers_influence import variance_inflation_factor\n",
    "X_scaled_for_VIF = scaler.fit_transform(X)\n",
    "\n",
    "X_vif = pd.DataFrame(X_scaled_for_VIF, columns=X.columns)\n",
    "vif_data = pd.DataFrame()\n",
    "vif_data['Feature'] = X_vif.columns\n",
    "vif_data['VIF'] = [variance_inflation_factor(X_vif.values, i) for i in range(X_vif.shape[1])]\n",
    "\n",
    "print(vif_data.sort_values(by='VIF', ascending=False))"
   ]
  },
  {
   "cell_type": "code",
   "execution_count": 42,
   "id": "1fdd20f6",
   "metadata": {},
   "outputs": [
    {
     "name": "stdout",
     "output_type": "stream",
     "text": [
      "R2 score of lasso is 0.9212355334676018\n",
      "mean_squared_error for lasso is 0.01171074464207393\n",
      "root mean_squared_error for lasso is 0.10821619399181405\n",
      "best alpa (hyperparameter is 0.001)\n",
      "no of most useful features for Lasso model are 31 \n"
     ]
    }
   ],
   "source": [
    "from sklearn.linear_model import LassoCV\n",
    "lasso_model = LassoCV(alphas=np.logspace(-3,3,50), cv = TimeSeriesSplit(5), max_iter=10000)\n",
    "lasso_model.fit(X_train_scaled, y_train)\n",
    "y_pred_lasso = lasso_model.predict(X_test_scaled)\n",
    "\n",
    "r2_score_lasso = r2_score(y_test, y_pred_lasso)\n",
    "mse_lasso = mean_squared_error(y_test, y_pred_lasso)\n",
    "rmse_lasso = np.sqrt(mse_lasso)\n",
    "non_zero_coeffs = np.sum(lasso_model.coef_!=0)\n",
    "\n",
    "print(f'R2 score of lasso is {r2_score_lasso}')\n",
    "print(f'mean_squared_error for lasso is {mse_lasso}')\n",
    "print(f'root mean_squared_error for lasso is {rmse_lasso}')\n",
    "print(f'best alpa (hyperparameter is {lasso_model.alpha_})')\n",
    "print(f'no of most useful features for Lasso model are {non_zero_coeffs} ')"
   ]
  },
  {
   "cell_type": "code",
   "execution_count": null,
   "id": "65ae8da0",
   "metadata": {},
   "outputs": [],
   "source": []
  },
  {
   "cell_type": "code",
   "execution_count": 44,
   "id": "f6b644a8",
   "metadata": {},
   "outputs": [],
   "source": [
    "data = pd.concat([X, y], axis=1)\n",
    "correlation_matrix = data.corr()"
   ]
  },
  {
   "cell_type": "code",
   "execution_count": 45,
   "id": "46d1e6cb",
   "metadata": {},
   "outputs": [
    {
     "name": "stdout",
     "output_type": "stream",
     "text": [
      "UNRATE                   1.000000\n",
      "UNRATE_rolling_mean_3    0.987871\n",
      "UNRATE_lag_1             0.981311\n",
      "UNRATE_rolling_mean_6    0.958973\n",
      "UNRATE_lag_2             0.955051\n",
      "                           ...   \n",
      "PAYEMS_rolling_mean_6   -0.667545\n",
      "PAYEMS_lag_2            -0.672507\n",
      "PAYEMS_lag_1            -0.687823\n",
      "PAYEMS_rolling_mean_3   -0.690036\n",
      "PAYEMS                  -0.699643\n",
      "Name: UNRATE, Length: 75, dtype: float64\n"
     ]
    }
   ],
   "source": [
    "print(correlation_matrix[y.name].sort_values(ascending=False))"
   ]
  },
  {
   "cell_type": "code",
   "execution_count": 46,
   "id": "f42d330a",
   "metadata": {},
   "outputs": [
    {
     "name": "stdout",
     "output_type": "stream",
     "text": [
      "Collecting mlflow\n",
      "  Downloading mlflow-3.1.1-py3-none-any.whl.metadata (29 kB)\n",
      "Collecting mlflow-skinny==3.1.1 (from mlflow)\n",
      "  Downloading mlflow_skinny-3.1.1-py3-none-any.whl.metadata (30 kB)\n",
      "Collecting Flask<4 (from mlflow)\n",
      "  Downloading flask-3.1.1-py3-none-any.whl.metadata (3.0 kB)\n",
      "Collecting alembic!=1.10.0,<2 (from mlflow)\n",
      "  Downloading alembic-1.16.2-py3-none-any.whl.metadata (7.3 kB)\n",
      "Collecting docker<8,>=4.0.0 (from mlflow)\n",
      "  Using cached docker-7.1.0-py3-none-any.whl.metadata (3.8 kB)\n",
      "Collecting graphene<4 (from mlflow)\n",
      "  Downloading graphene-3.4.3-py2.py3-none-any.whl.metadata (6.9 kB)\n",
      "Requirement already satisfied: matplotlib<4 in c:\\users\\jaswe\\onedrive\\desktop\\opt\\projects\\unemployment_rate_prediction\\venv\\lib\\site-packages (from mlflow) (3.10.0)\n",
      "Requirement already satisfied: numpy<3 in c:\\users\\jaswe\\onedrive\\desktop\\opt\\projects\\unemployment_rate_prediction\\venv\\lib\\site-packages (from mlflow) (2.1.3)\n",
      "Requirement already satisfied: pandas<3 in c:\\users\\jaswe\\onedrive\\desktop\\opt\\projects\\unemployment_rate_prediction\\venv\\lib\\site-packages (from mlflow) (2.3.0)\n",
      "Collecting pyarrow<21,>=4.0.0 (from mlflow)\n",
      "  Downloading pyarrow-20.0.0-cp312-cp312-win_amd64.whl.metadata (3.4 kB)\n",
      "Requirement already satisfied: scikit-learn<2 in c:\\users\\jaswe\\onedrive\\desktop\\opt\\projects\\unemployment_rate_prediction\\venv\\lib\\site-packages (from mlflow) (1.7.0)\n",
      "Requirement already satisfied: scipy<2 in c:\\users\\jaswe\\onedrive\\desktop\\opt\\projects\\unemployment_rate_prediction\\venv\\lib\\site-packages (from mlflow) (1.15.3)\n",
      "Collecting sqlalchemy<3,>=1.4.0 (from mlflow)\n",
      "  Downloading sqlalchemy-2.0.41-cp312-cp312-win_amd64.whl.metadata (9.8 kB)\n",
      "Collecting waitress<4 (from mlflow)\n",
      "  Downloading waitress-3.0.2-py3-none-any.whl.metadata (5.8 kB)\n",
      "Collecting cachetools<7,>=5.0.0 (from mlflow-skinny==3.1.1->mlflow)\n",
      "  Downloading cachetools-6.1.0-py3-none-any.whl.metadata (5.4 kB)\n",
      "Collecting click<9,>=7.0 (from mlflow-skinny==3.1.1->mlflow)\n",
      "  Downloading click-8.2.1-py3-none-any.whl.metadata (2.5 kB)\n",
      "Collecting cloudpickle<4 (from mlflow-skinny==3.1.1->mlflow)\n",
      "  Using cached cloudpickle-3.1.1-py3-none-any.whl.metadata (7.1 kB)\n",
      "Collecting databricks-sdk<1,>=0.20.0 (from mlflow-skinny==3.1.1->mlflow)\n",
      "  Downloading databricks_sdk-0.57.0-py3-none-any.whl.metadata (39 kB)\n",
      "Collecting fastapi<1 (from mlflow-skinny==3.1.1->mlflow)\n",
      "  Downloading fastapi-0.115.14-py3-none-any.whl.metadata (27 kB)\n",
      "Collecting gitpython<4,>=3.1.9 (from mlflow-skinny==3.1.1->mlflow)\n",
      "  Using cached GitPython-3.1.44-py3-none-any.whl.metadata (13 kB)\n",
      "Collecting importlib_metadata!=4.7.0,<9,>=3.7.0 (from mlflow-skinny==3.1.1->mlflow)\n",
      "  Downloading importlib_metadata-8.7.0-py3-none-any.whl.metadata (4.8 kB)\n",
      "Collecting opentelemetry-api<3,>=1.9.0 (from mlflow-skinny==3.1.1->mlflow)\n",
      "  Downloading opentelemetry_api-1.34.1-py3-none-any.whl.metadata (1.5 kB)\n",
      "Collecting opentelemetry-sdk<3,>=1.9.0 (from mlflow-skinny==3.1.1->mlflow)\n",
      "  Downloading opentelemetry_sdk-1.34.1-py3-none-any.whl.metadata (1.6 kB)\n",
      "Requirement already satisfied: packaging<26 in c:\\users\\jaswe\\onedrive\\desktop\\opt\\projects\\unemployment_rate_prediction\\venv\\lib\\site-packages (from mlflow-skinny==3.1.1->mlflow) (25.0)\n",
      "Collecting protobuf<7,>=3.12.0 (from mlflow-skinny==3.1.1->mlflow)\n",
      "  Downloading protobuf-6.31.1-cp310-abi3-win_amd64.whl.metadata (593 bytes)\n",
      "Requirement already satisfied: pydantic<3,>=1.10.8 in c:\\users\\jaswe\\onedrive\\desktop\\opt\\projects\\unemployment_rate_prediction\\venv\\lib\\site-packages (from mlflow-skinny==3.1.1->mlflow) (2.11.7)\n",
      "Requirement already satisfied: pyyaml<7,>=5.1 in c:\\users\\jaswe\\onedrive\\desktop\\opt\\projects\\unemployment_rate_prediction\\venv\\lib\\site-packages (from mlflow-skinny==3.1.1->mlflow) (6.0.2)\n",
      "Requirement already satisfied: requests<3,>=2.17.3 in c:\\users\\jaswe\\onedrive\\desktop\\opt\\projects\\unemployment_rate_prediction\\venv\\lib\\site-packages (from mlflow-skinny==3.1.1->mlflow) (2.32.4)\n",
      "Collecting sqlparse<1,>=0.4.0 (from mlflow-skinny==3.1.1->mlflow)\n",
      "  Downloading sqlparse-0.5.3-py3-none-any.whl.metadata (3.9 kB)\n",
      "Requirement already satisfied: typing-extensions<5,>=4.0.0 in c:\\users\\jaswe\\onedrive\\desktop\\opt\\projects\\unemployment_rate_prediction\\venv\\lib\\site-packages (from mlflow-skinny==3.1.1->mlflow) (4.14.0)\n",
      "Collecting uvicorn<1 (from mlflow-skinny==3.1.1->mlflow)\n",
      "  Downloading uvicorn-0.35.0-py3-none-any.whl.metadata (6.5 kB)\n",
      "Collecting Mako (from alembic!=1.10.0,<2->mlflow)\n",
      "  Downloading mako-1.3.10-py3-none-any.whl.metadata (2.9 kB)\n",
      "Requirement already satisfied: colorama in c:\\users\\jaswe\\onedrive\\desktop\\opt\\projects\\unemployment_rate_prediction\\venv\\lib\\site-packages (from click<9,>=7.0->mlflow-skinny==3.1.1->mlflow) (0.4.6)\n",
      "Collecting google-auth~=2.0 (from databricks-sdk<1,>=0.20.0->mlflow-skinny==3.1.1->mlflow)\n",
      "  Downloading google_auth-2.40.3-py2.py3-none-any.whl.metadata (6.2 kB)\n",
      "Requirement already satisfied: pywin32>=304 in c:\\users\\jaswe\\onedrive\\desktop\\opt\\projects\\unemployment_rate_prediction\\venv\\lib\\site-packages (from docker<8,>=4.0.0->mlflow) (310)\n",
      "Requirement already satisfied: urllib3>=1.26.0 in c:\\users\\jaswe\\onedrive\\desktop\\opt\\projects\\unemployment_rate_prediction\\venv\\lib\\site-packages (from docker<8,>=4.0.0->mlflow) (2.5.0)\n",
      "Collecting starlette<0.47.0,>=0.40.0 (from fastapi<1->mlflow-skinny==3.1.1->mlflow)\n",
      "  Downloading starlette-0.46.2-py3-none-any.whl.metadata (6.2 kB)\n",
      "Collecting blinker>=1.9.0 (from Flask<4->mlflow)\n",
      "  Downloading blinker-1.9.0-py3-none-any.whl.metadata (1.6 kB)\n",
      "Collecting itsdangerous>=2.2.0 (from Flask<4->mlflow)\n",
      "  Using cached itsdangerous-2.2.0-py3-none-any.whl.metadata (1.9 kB)\n",
      "Requirement already satisfied: jinja2>=3.1.2 in c:\\users\\jaswe\\onedrive\\desktop\\opt\\projects\\unemployment_rate_prediction\\venv\\lib\\site-packages (from Flask<4->mlflow) (3.1.6)\n",
      "Requirement already satisfied: markupsafe>=2.1.1 in c:\\users\\jaswe\\onedrive\\desktop\\opt\\projects\\unemployment_rate_prediction\\venv\\lib\\site-packages (from Flask<4->mlflow) (3.0.2)\n",
      "Collecting werkzeug>=3.1.0 (from Flask<4->mlflow)\n",
      "  Downloading werkzeug-3.1.3-py3-none-any.whl.metadata (3.7 kB)\n",
      "Collecting gitdb<5,>=4.0.1 (from gitpython<4,>=3.1.9->mlflow-skinny==3.1.1->mlflow)\n",
      "  Using cached gitdb-4.0.12-py3-none-any.whl.metadata (1.2 kB)\n",
      "Collecting smmap<6,>=3.0.1 (from gitdb<5,>=4.0.1->gitpython<4,>=3.1.9->mlflow-skinny==3.1.1->mlflow)\n",
      "  Using cached smmap-5.0.2-py3-none-any.whl.metadata (4.3 kB)\n",
      "Collecting cachetools<7,>=5.0.0 (from mlflow-skinny==3.1.1->mlflow)\n",
      "  Using cached cachetools-5.5.2-py3-none-any.whl.metadata (5.4 kB)\n",
      "Collecting pyasn1-modules>=0.2.1 (from google-auth~=2.0->databricks-sdk<1,>=0.20.0->mlflow-skinny==3.1.1->mlflow)\n",
      "  Using cached pyasn1_modules-0.4.2-py3-none-any.whl.metadata (3.5 kB)\n",
      "Collecting rsa<5,>=3.1.4 (from google-auth~=2.0->databricks-sdk<1,>=0.20.0->mlflow-skinny==3.1.1->mlflow)\n",
      "  Using cached rsa-4.9.1-py3-none-any.whl.metadata (5.6 kB)\n",
      "Collecting graphql-core<3.3,>=3.1 (from graphene<4->mlflow)\n",
      "  Downloading graphql_core-3.2.6-py3-none-any.whl.metadata (11 kB)\n",
      "Collecting graphql-relay<3.3,>=3.1 (from graphene<4->mlflow)\n",
      "  Downloading graphql_relay-3.2.0-py3-none-any.whl.metadata (12 kB)\n",
      "Requirement already satisfied: python-dateutil<3,>=2.7.0 in c:\\users\\jaswe\\onedrive\\desktop\\opt\\projects\\unemployment_rate_prediction\\venv\\lib\\site-packages (from graphene<4->mlflow) (2.9.0.post0)\n",
      "Collecting zipp>=3.20 (from importlib_metadata!=4.7.0,<9,>=3.7.0->mlflow-skinny==3.1.1->mlflow)\n",
      "  Downloading zipp-3.23.0-py3-none-any.whl.metadata (3.6 kB)\n",
      "Requirement already satisfied: contourpy>=1.0.1 in c:\\users\\jaswe\\onedrive\\desktop\\opt\\projects\\unemployment_rate_prediction\\venv\\lib\\site-packages (from matplotlib<4->mlflow) (1.3.2)\n",
      "Requirement already satisfied: cycler>=0.10 in c:\\users\\jaswe\\onedrive\\desktop\\opt\\projects\\unemployment_rate_prediction\\venv\\lib\\site-packages (from matplotlib<4->mlflow) (0.12.1)\n",
      "Requirement already satisfied: fonttools>=4.22.0 in c:\\users\\jaswe\\onedrive\\desktop\\opt\\projects\\unemployment_rate_prediction\\venv\\lib\\site-packages (from matplotlib<4->mlflow) (4.58.4)\n",
      "Requirement already satisfied: kiwisolver>=1.3.1 in c:\\users\\jaswe\\onedrive\\desktop\\opt\\projects\\unemployment_rate_prediction\\venv\\lib\\site-packages (from matplotlib<4->mlflow) (1.4.8)\n",
      "Requirement already satisfied: pillow>=8 in c:\\users\\jaswe\\onedrive\\desktop\\opt\\projects\\unemployment_rate_prediction\\venv\\lib\\site-packages (from matplotlib<4->mlflow) (11.3.0)\n",
      "Requirement already satisfied: pyparsing>=2.3.1 in c:\\users\\jaswe\\onedrive\\desktop\\opt\\projects\\unemployment_rate_prediction\\venv\\lib\\site-packages (from matplotlib<4->mlflow) (3.2.3)\n",
      "Collecting opentelemetry-semantic-conventions==0.55b1 (from opentelemetry-sdk<3,>=1.9.0->mlflow-skinny==3.1.1->mlflow)\n",
      "  Downloading opentelemetry_semantic_conventions-0.55b1-py3-none-any.whl.metadata (2.5 kB)\n",
      "Requirement already satisfied: pytz>=2020.1 in c:\\users\\jaswe\\onedrive\\desktop\\opt\\projects\\unemployment_rate_prediction\\venv\\lib\\site-packages (from pandas<3->mlflow) (2025.2)\n",
      "Requirement already satisfied: tzdata>=2022.7 in c:\\users\\jaswe\\onedrive\\desktop\\opt\\projects\\unemployment_rate_prediction\\venv\\lib\\site-packages (from pandas<3->mlflow) (2025.2)\n",
      "Requirement already satisfied: annotated-types>=0.6.0 in c:\\users\\jaswe\\onedrive\\desktop\\opt\\projects\\unemployment_rate_prediction\\venv\\lib\\site-packages (from pydantic<3,>=1.10.8->mlflow-skinny==3.1.1->mlflow) (0.7.0)\n",
      "Requirement already satisfied: pydantic-core==2.33.2 in c:\\users\\jaswe\\onedrive\\desktop\\opt\\projects\\unemployment_rate_prediction\\venv\\lib\\site-packages (from pydantic<3,>=1.10.8->mlflow-skinny==3.1.1->mlflow) (2.33.2)\n",
      "Requirement already satisfied: typing-inspection>=0.4.0 in c:\\users\\jaswe\\onedrive\\desktop\\opt\\projects\\unemployment_rate_prediction\\venv\\lib\\site-packages (from pydantic<3,>=1.10.8->mlflow-skinny==3.1.1->mlflow) (0.4.1)\n",
      "Requirement already satisfied: six>=1.5 in c:\\users\\jaswe\\onedrive\\desktop\\opt\\projects\\unemployment_rate_prediction\\venv\\lib\\site-packages (from python-dateutil<3,>=2.7.0->graphene<4->mlflow) (1.17.0)\n",
      "Requirement already satisfied: charset_normalizer<4,>=2 in c:\\users\\jaswe\\onedrive\\desktop\\opt\\projects\\unemployment_rate_prediction\\venv\\lib\\site-packages (from requests<3,>=2.17.3->mlflow-skinny==3.1.1->mlflow) (3.4.2)\n",
      "Requirement already satisfied: idna<4,>=2.5 in c:\\users\\jaswe\\onedrive\\desktop\\opt\\projects\\unemployment_rate_prediction\\venv\\lib\\site-packages (from requests<3,>=2.17.3->mlflow-skinny==3.1.1->mlflow) (3.10)\n",
      "Requirement already satisfied: certifi>=2017.4.17 in c:\\users\\jaswe\\onedrive\\desktop\\opt\\projects\\unemployment_rate_prediction\\venv\\lib\\site-packages (from requests<3,>=2.17.3->mlflow-skinny==3.1.1->mlflow) (2025.6.15)\n",
      "Collecting pyasn1>=0.1.3 (from rsa<5,>=3.1.4->google-auth~=2.0->databricks-sdk<1,>=0.20.0->mlflow-skinny==3.1.1->mlflow)\n",
      "  Using cached pyasn1-0.6.1-py3-none-any.whl.metadata (8.4 kB)\n",
      "Requirement already satisfied: joblib>=1.2.0 in c:\\users\\jaswe\\onedrive\\desktop\\opt\\projects\\unemployment_rate_prediction\\venv\\lib\\site-packages (from scikit-learn<2->mlflow) (1.5.1)\n",
      "Requirement already satisfied: threadpoolctl>=3.1.0 in c:\\users\\jaswe\\onedrive\\desktop\\opt\\projects\\unemployment_rate_prediction\\venv\\lib\\site-packages (from scikit-learn<2->mlflow) (3.6.0)\n",
      "Collecting greenlet>=1 (from sqlalchemy<3,>=1.4.0->mlflow)\n",
      "  Downloading greenlet-3.2.3-cp312-cp312-win_amd64.whl.metadata (4.2 kB)\n",
      "Collecting anyio<5,>=3.6.2 (from starlette<0.47.0,>=0.40.0->fastapi<1->mlflow-skinny==3.1.1->mlflow)\n",
      "  Using cached anyio-4.9.0-py3-none-any.whl.metadata (4.7 kB)\n",
      "Collecting sniffio>=1.1 (from anyio<5,>=3.6.2->starlette<0.47.0,>=0.40.0->fastapi<1->mlflow-skinny==3.1.1->mlflow)\n",
      "  Using cached sniffio-1.3.1-py3-none-any.whl.metadata (3.9 kB)\n",
      "Collecting h11>=0.8 (from uvicorn<1->mlflow-skinny==3.1.1->mlflow)\n",
      "  Using cached h11-0.16.0-py3-none-any.whl.metadata (8.3 kB)\n",
      "Downloading mlflow-3.1.1-py3-none-any.whl (24.7 MB)\n",
      "   ---------------------------------------- 0.0/24.7 MB ? eta -:--:--\n",
      "   --- ------------------------------------ 2.1/24.7 MB 11.7 MB/s eta 0:00:02\n",
      "   ------- -------------------------------- 4.7/24.7 MB 13.0 MB/s eta 0:00:02\n",
      "   ------------ --------------------------- 7.9/24.7 MB 13.2 MB/s eta 0:00:02\n",
      "   ---------------- ----------------------- 10.5/24.7 MB 13.1 MB/s eta 0:00:02\n",
      "   -------------------- ------------------- 12.6/24.7 MB 12.9 MB/s eta 0:00:01\n",
      "   ------------------------- -------------- 15.5/24.7 MB 12.8 MB/s eta 0:00:01\n",
      "   ----------------------------- ---------- 18.4/24.7 MB 13.2 MB/s eta 0:00:01\n",
      "   --------------------------------- ------ 21.0/24.7 MB 13.1 MB/s eta 0:00:01\n",
      "   -------------------------------------- - 23.9/24.7 MB 13.2 MB/s eta 0:00:01\n",
      "   ---------------------------------------- 24.7/24.7 MB 12.7 MB/s eta 0:00:00\n",
      "Downloading mlflow_skinny-3.1.1-py3-none-any.whl (1.9 MB)\n",
      "   ---------------------------------------- 0.0/1.9 MB ? eta -:--:--\n",
      "   ---------------------------------------- 1.9/1.9 MB 11.8 MB/s eta 0:00:00\n",
      "Downloading alembic-1.16.2-py3-none-any.whl (242 kB)\n",
      "Downloading click-8.2.1-py3-none-any.whl (102 kB)\n",
      "Using cached cloudpickle-3.1.1-py3-none-any.whl (20 kB)\n",
      "Downloading databricks_sdk-0.57.0-py3-none-any.whl (733 kB)\n",
      "   ---------------------------------------- 0.0/733.8 kB ? eta -:--:--\n",
      "   --------------------------------------- 733.8/733.8 kB 10.0 MB/s eta 0:00:00\n",
      "Using cached docker-7.1.0-py3-none-any.whl (147 kB)\n",
      "Downloading fastapi-0.115.14-py3-none-any.whl (95 kB)\n",
      "Downloading flask-3.1.1-py3-none-any.whl (103 kB)\n",
      "Using cached GitPython-3.1.44-py3-none-any.whl (207 kB)\n",
      "Using cached gitdb-4.0.12-py3-none-any.whl (62 kB)\n",
      "Downloading google_auth-2.40.3-py2.py3-none-any.whl (216 kB)\n",
      "Using cached cachetools-5.5.2-py3-none-any.whl (10 kB)\n",
      "Downloading graphene-3.4.3-py2.py3-none-any.whl (114 kB)\n",
      "Downloading graphql_core-3.2.6-py3-none-any.whl (203 kB)\n",
      "Downloading graphql_relay-3.2.0-py3-none-any.whl (16 kB)\n",
      "Downloading importlib_metadata-8.7.0-py3-none-any.whl (27 kB)\n",
      "Downloading opentelemetry_api-1.34.1-py3-none-any.whl (65 kB)\n",
      "Downloading opentelemetry_sdk-1.34.1-py3-none-any.whl (118 kB)\n",
      "Downloading opentelemetry_semantic_conventions-0.55b1-py3-none-any.whl (196 kB)\n",
      "Downloading protobuf-6.31.1-cp310-abi3-win_amd64.whl (435 kB)\n",
      "Downloading pyarrow-20.0.0-cp312-cp312-win_amd64.whl (25.7 MB)\n",
      "   ---------------------------------------- 0.0/25.7 MB ? eta -:--:--\n",
      "   ---- ----------------------------------- 3.1/25.7 MB 14.2 MB/s eta 0:00:02\n",
      "   --------- ------------------------------ 6.3/25.7 MB 14.9 MB/s eta 0:00:02\n",
      "   --------------- ------------------------ 9.7/25.7 MB 15.5 MB/s eta 0:00:02\n",
      "   ------------------- -------------------- 12.6/25.7 MB 15.2 MB/s eta 0:00:01\n",
      "   ------------------------ --------------- 15.5/25.7 MB 15.0 MB/s eta 0:00:01\n",
      "   ----------------------------- ---------- 18.9/25.7 MB 15.3 MB/s eta 0:00:01\n",
      "   ---------------------------------- ----- 22.0/25.7 MB 15.5 MB/s eta 0:00:01\n",
      "   ---------------------------------------  25.4/25.7 MB 15.5 MB/s eta 0:00:01\n",
      "   ---------------------------------------- 25.7/25.7 MB 15.0 MB/s eta 0:00:00\n",
      "Using cached rsa-4.9.1-py3-none-any.whl (34 kB)\n",
      "Using cached smmap-5.0.2-py3-none-any.whl (24 kB)\n",
      "Downloading sqlalchemy-2.0.41-cp312-cp312-win_amd64.whl (2.1 MB)\n",
      "   ---------------------------------------- 0.0/2.1 MB ? eta -:--:--\n",
      "   ---------------------------------------- 2.1/2.1 MB 17.0 MB/s eta 0:00:00\n",
      "Downloading sqlparse-0.5.3-py3-none-any.whl (44 kB)\n",
      "Downloading starlette-0.46.2-py3-none-any.whl (72 kB)\n",
      "Using cached anyio-4.9.0-py3-none-any.whl (100 kB)\n",
      "Downloading uvicorn-0.35.0-py3-none-any.whl (66 kB)\n",
      "Downloading waitress-3.0.2-py3-none-any.whl (56 kB)\n",
      "Downloading blinker-1.9.0-py3-none-any.whl (8.5 kB)\n",
      "Downloading greenlet-3.2.3-cp312-cp312-win_amd64.whl (297 kB)\n",
      "Using cached h11-0.16.0-py3-none-any.whl (37 kB)\n",
      "Using cached itsdangerous-2.2.0-py3-none-any.whl (16 kB)\n",
      "Using cached pyasn1-0.6.1-py3-none-any.whl (83 kB)\n",
      "Using cached pyasn1_modules-0.4.2-py3-none-any.whl (181 kB)\n",
      "Using cached sniffio-1.3.1-py3-none-any.whl (10 kB)\n",
      "Downloading werkzeug-3.1.3-py3-none-any.whl (224 kB)\n",
      "Downloading zipp-3.23.0-py3-none-any.whl (10 kB)\n",
      "Downloading mako-1.3.10-py3-none-any.whl (78 kB)\n",
      "Installing collected packages: zipp, werkzeug, waitress, sqlparse, sniffio, smmap, pyasn1, pyarrow, protobuf, Mako, itsdangerous, h11, greenlet, graphql-core, cloudpickle, click, cachetools, blinker, uvicorn, sqlalchemy, rsa, pyasn1-modules, importlib_metadata, graphql-relay, gitdb, Flask, docker, anyio, starlette, opentelemetry-api, graphene, google-auth, gitpython, alembic, opentelemetry-semantic-conventions, fastapi, databricks-sdk, opentelemetry-sdk, mlflow-skinny, mlflow\n",
      "\n",
      "   - --------------------------------------  1/40 [werkzeug]\n",
      "   - --------------------------------------  1/40 [werkzeug]\n",
      "   - --------------------------------------  1/40 [werkzeug]\n",
      "   - --------------------------------------  1/40 [werkzeug]\n",
      "   - --------------------------------------  1/40 [werkzeug]\n",
      "   - --------------------------------------  1/40 [werkzeug]\n",
      "   - --------------------------------------  1/40 [werkzeug]\n",
      "   -- -------------------------------------  2/40 [waitress]\n",
      "   -- -------------------------------------  2/40 [waitress]\n",
      "   -- -------------------------------------  2/40 [waitress]\n",
      "   --- ------------------------------------  3/40 [sqlparse]\n",
      "   --- ------------------------------------  3/40 [sqlparse]\n",
      "   --- ------------------------------------  3/40 [sqlparse]\n",
      "   ---- -----------------------------------  4/40 [sniffio]\n",
      "   ----- ----------------------------------  5/40 [smmap]\n",
      "   ------ ---------------------------------  6/40 [pyasn1]\n",
      "   ------ ---------------------------------  6/40 [pyasn1]\n",
      "   ------ ---------------------------------  6/40 [pyasn1]\n",
      "   ------ ---------------------------------  6/40 [pyasn1]\n",
      "   ------- --------------------------------  7/40 [pyarrow]\n",
      "   ------- --------------------------------  7/40 [pyarrow]\n",
      "   ------- --------------------------------  7/40 [pyarrow]\n",
      "   ------- --------------------------------  7/40 [pyarrow]\n",
      "   ------- --------------------------------  7/40 [pyarrow]\n",
      "   ------- --------------------------------  7/40 [pyarrow]\n",
      "   ------- --------------------------------  7/40 [pyarrow]\n",
      "   ------- --------------------------------  7/40 [pyarrow]\n",
      "   ------- --------------------------------  7/40 [pyarrow]\n",
      "   ------- --------------------------------  7/40 [pyarrow]\n",
      "   ------- --------------------------------  7/40 [pyarrow]\n",
      "   ------- --------------------------------  7/40 [pyarrow]\n",
      "   ------- --------------------------------  7/40 [pyarrow]\n",
      "   ------- --------------------------------  7/40 [pyarrow]\n",
      "   ------- --------------------------------  7/40 [pyarrow]\n",
      "   ------- --------------------------------  7/40 [pyarrow]\n",
      "   ------- --------------------------------  7/40 [pyarrow]\n",
      "   ------- --------------------------------  7/40 [pyarrow]\n",
      "   ------- --------------------------------  7/40 [pyarrow]\n",
      "   ------- --------------------------------  7/40 [pyarrow]\n",
      "   ------- --------------------------------  7/40 [pyarrow]\n",
      "   ------- --------------------------------  7/40 [pyarrow]\n",
      "   ------- --------------------------------  7/40 [pyarrow]\n",
      "   -------- -------------------------------  8/40 [protobuf]\n",
      "   -------- -------------------------------  8/40 [protobuf]\n",
      "   -------- -------------------------------  8/40 [protobuf]\n",
      "   -------- -------------------------------  8/40 [protobuf]\n",
      "   -------- -------------------------------  8/40 [protobuf]\n",
      "   -------- -------------------------------  8/40 [protobuf]\n",
      "   -------- -------------------------------  8/40 [protobuf]\n",
      "   -------- -------------------------------  8/40 [protobuf]\n",
      "   --------- ------------------------------  9/40 [Mako]\n",
      "   --------- ------------------------------  9/40 [Mako]\n",
      "   --------- ------------------------------  9/40 [Mako]\n",
      "   --------- ------------------------------  9/40 [Mako]\n",
      "   --------- ------------------------------  9/40 [Mako]\n",
      "   --------- ------------------------------  9/40 [Mako]\n",
      "   ---------- ----------------------------- 10/40 [itsdangerous]\n",
      "   ----------- ---------------------------- 11/40 [h11]\n",
      "   ----------- ---------------------------- 11/40 [h11]\n",
      "   ------------ --------------------------- 12/40 [greenlet]\n",
      "   ------------ --------------------------- 12/40 [greenlet]\n",
      "   ------------ --------------------------- 12/40 [greenlet]\n",
      "   ------------ --------------------------- 12/40 [greenlet]\n",
      "   ------------- -------------------------- 13/40 [graphql-core]\n",
      "   ------------- -------------------------- 13/40 [graphql-core]\n",
      "   ------------- -------------------------- 13/40 [graphql-core]\n",
      "   ------------- -------------------------- 13/40 [graphql-core]\n",
      "   ------------- -------------------------- 13/40 [graphql-core]\n",
      "   ------------- -------------------------- 13/40 [graphql-core]\n",
      "   ------------- -------------------------- 13/40 [graphql-core]\n",
      "   ------------- -------------------------- 13/40 [graphql-core]\n",
      "   ------------- -------------------------- 13/40 [graphql-core]\n",
      "   ------------- -------------------------- 13/40 [graphql-core]\n",
      "   ------------- -------------------------- 13/40 [graphql-core]\n",
      "   ------------- -------------------------- 13/40 [graphql-core]\n",
      "   ------------- -------------------------- 13/40 [graphql-core]\n",
      "   ------------- -------------------------- 13/40 [graphql-core]\n",
      "   ------------- -------------------------- 13/40 [graphql-core]\n",
      "   -------------- ------------------------- 14/40 [cloudpickle]\n",
      "   --------------- ------------------------ 15/40 [click]\n",
      "   --------------- ------------------------ 15/40 [click]\n",
      "   ---------------- ----------------------- 16/40 [cachetools]\n",
      "   ------------------ --------------------- 18/40 [uvicorn]\n",
      "   ------------------ --------------------- 18/40 [uvicorn]\n",
      "   ------------------ --------------------- 18/40 [uvicorn]\n",
      "   ------------------ --------------------- 18/40 [uvicorn]\n",
      "   ------------------ --------------------- 18/40 [uvicorn]\n",
      "   ------------------ --------------------- 18/40 [uvicorn]\n",
      "   ------------------- -------------------- 19/40 [sqlalchemy]\n",
      "   ------------------- -------------------- 19/40 [sqlalchemy]\n",
      "   ------------------- -------------------- 19/40 [sqlalchemy]\n",
      "   ------------------- -------------------- 19/40 [sqlalchemy]\n",
      "   ------------------- -------------------- 19/40 [sqlalchemy]\n",
      "   ------------------- -------------------- 19/40 [sqlalchemy]\n",
      "   ------------------- -------------------- 19/40 [sqlalchemy]\n",
      "   ------------------- -------------------- 19/40 [sqlalchemy]\n",
      "   ------------------- -------------------- 19/40 [sqlalchemy]\n",
      "   ------------------- -------------------- 19/40 [sqlalchemy]\n",
      "   ------------------- -------------------- 19/40 [sqlalchemy]\n",
      "   ------------------- -------------------- 19/40 [sqlalchemy]\n",
      "   ------------------- -------------------- 19/40 [sqlalchemy]\n",
      "   ------------------- -------------------- 19/40 [sqlalchemy]\n",
      "   ------------------- -------------------- 19/40 [sqlalchemy]\n",
      "   ------------------- -------------------- 19/40 [sqlalchemy]\n",
      "   ------------------- -------------------- 19/40 [sqlalchemy]\n",
      "   ------------------- -------------------- 19/40 [sqlalchemy]\n",
      "   ------------------- -------------------- 19/40 [sqlalchemy]\n",
      "   ------------------- -------------------- 19/40 [sqlalchemy]\n",
      "   ------------------- -------------------- 19/40 [sqlalchemy]\n",
      "   ------------------- -------------------- 19/40 [sqlalchemy]\n",
      "   ------------------- -------------------- 19/40 [sqlalchemy]\n",
      "   ------------------- -------------------- 19/40 [sqlalchemy]\n",
      "   ------------------- -------------------- 19/40 [sqlalchemy]\n",
      "   ------------------- -------------------- 19/40 [sqlalchemy]\n",
      "   ------------------- -------------------- 19/40 [sqlalchemy]\n",
      "   ------------------- -------------------- 19/40 [sqlalchemy]\n",
      "   ------------------- -------------------- 19/40 [sqlalchemy]\n",
      "   ------------------- -------------------- 19/40 [sqlalchemy]\n",
      "   ------------------- -------------------- 19/40 [sqlalchemy]\n",
      "   ------------------- -------------------- 19/40 [sqlalchemy]\n",
      "   ------------------- -------------------- 19/40 [sqlalchemy]\n",
      "   ------------------- -------------------- 19/40 [sqlalchemy]\n",
      "   ------------------- -------------------- 19/40 [sqlalchemy]\n",
      "   ------------------- -------------------- 19/40 [sqlalchemy]\n",
      "   ------------------- -------------------- 19/40 [sqlalchemy]\n",
      "   ------------------- -------------------- 19/40 [sqlalchemy]\n",
      "   ------------------- -------------------- 19/40 [sqlalchemy]\n",
      "   ------------------- -------------------- 19/40 [sqlalchemy]\n",
      "   ------------------- -------------------- 19/40 [sqlalchemy]\n",
      "   ------------------- -------------------- 19/40 [sqlalchemy]\n",
      "   ------------------- -------------------- 19/40 [sqlalchemy]\n",
      "   -------------------- ------------------- 20/40 [rsa]\n",
      "   -------------------- ------------------- 20/40 [rsa]\n",
      "   -------------------- ------------------- 20/40 [rsa]\n",
      "   -------------------- ------------------- 20/40 [rsa]\n",
      "   -------------------- ------------------- 20/40 [rsa]\n",
      "   -------------------- ------------------- 20/40 [rsa]\n",
      "   -------------------- ------------------- 20/40 [rsa]\n",
      "   -------------------- ------------------- 20/40 [rsa]\n",
      "   --------------------- ------------------ 21/40 [pyasn1-modules]\n",
      "   --------------------- ------------------ 21/40 [pyasn1-modules]\n",
      "   --------------------- ------------------ 21/40 [pyasn1-modules]\n",
      "   --------------------- ------------------ 21/40 [pyasn1-modules]\n",
      "   --------------------- ------------------ 21/40 [pyasn1-modules]\n",
      "   --------------------- ------------------ 21/40 [pyasn1-modules]\n",
      "   --------------------- ------------------ 21/40 [pyasn1-modules]\n",
      "   --------------------- ------------------ 21/40 [pyasn1-modules]\n",
      "   --------------------- ------------------ 21/40 [pyasn1-modules]\n",
      "   --------------------- ------------------ 21/40 [pyasn1-modules]\n",
      "   --------------------- ------------------ 21/40 [pyasn1-modules]\n",
      "   --------------------- ------------------ 21/40 [pyasn1-modules]\n",
      "   --------------------- ------------------ 21/40 [pyasn1-modules]\n",
      "   --------------------- ------------------ 21/40 [pyasn1-modules]\n",
      "   --------------------- ------------------ 21/40 [pyasn1-modules]\n",
      "   --------------------- ------------------ 21/40 [pyasn1-modules]\n",
      "   --------------------- ------------------ 21/40 [pyasn1-modules]\n",
      "   ---------------------- ----------------- 22/40 [importlib_metadata]\n",
      "   ---------------------- ----------------- 22/40 [importlib_metadata]\n",
      "   ----------------------- ---------------- 23/40 [graphql-relay]\n",
      "   ------------------------ --------------- 24/40 [gitdb]\n",
      "   ------------------------ --------------- 24/40 [gitdb]\n",
      "   ------------------------ --------------- 24/40 [gitdb]\n",
      "   ------------------------- -------------- 25/40 [Flask]\n",
      "   ------------------------- -------------- 25/40 [Flask]\n",
      "   ------------------------- -------------- 25/40 [Flask]\n",
      "   ------------------------- -------------- 25/40 [Flask]\n",
      "   ------------------------- -------------- 25/40 [Flask]\n",
      "   -------------------------- ------------- 26/40 [docker]\n",
      "   -------------------------- ------------- 26/40 [docker]\n",
      "   -------------------------- ------------- 26/40 [docker]\n",
      "   -------------------------- ------------- 26/40 [docker]\n",
      "   -------------------------- ------------- 26/40 [docker]\n",
      "   -------------------------- ------------- 26/40 [docker]\n",
      "   -------------------------- ------------- 26/40 [docker]\n",
      "   -------------------------- ------------- 26/40 [docker]\n",
      "   -------------------------- ------------- 26/40 [docker]\n",
      "   --------------------------- ------------ 27/40 [anyio]\n",
      "   --------------------------- ------------ 27/40 [anyio]\n",
      "   --------------------------- ------------ 27/40 [anyio]\n",
      "   --------------------------- ------------ 27/40 [anyio]\n",
      "   --------------------------- ------------ 27/40 [anyio]\n",
      "   ---------------------------- ----------- 28/40 [starlette]\n",
      "   ---------------------------- ----------- 28/40 [starlette]\n",
      "   ---------------------------- ----------- 28/40 [starlette]\n",
      "   ---------------------------- ----------- 28/40 [starlette]\n",
      "   ---------------------------- ----------- 28/40 [starlette]\n",
      "   ----------------------------- ---------- 29/40 [opentelemetry-api]\n",
      "   ----------------------------- ---------- 29/40 [opentelemetry-api]\n",
      "   ----------------------------- ---------- 29/40 [opentelemetry-api]\n",
      "   ----------------------------- ---------- 29/40 [opentelemetry-api]\n",
      "   ------------------------------ --------- 30/40 [graphene]\n",
      "   ------------------------------ --------- 30/40 [graphene]\n",
      "   ------------------------------ --------- 30/40 [graphene]\n",
      "   ------------------------------ --------- 30/40 [graphene]\n",
      "   ------------------------------ --------- 30/40 [graphene]\n",
      "   ------------------------------ --------- 30/40 [graphene]\n",
      "   ------------------------------ --------- 30/40 [graphene]\n",
      "   ------------------------------ --------- 30/40 [graphene]\n",
      "   ------------------------------ --------- 30/40 [graphene]\n",
      "   ------------------------------ --------- 30/40 [graphene]\n",
      "   ------------------------------ --------- 30/40 [graphene]\n",
      "   ------------------------------ --------- 30/40 [graphene]\n",
      "   ------------------------------ --------- 30/40 [graphene]\n",
      "   ------------------------------ --------- 30/40 [graphene]\n",
      "   ------------------------------- -------- 31/40 [google-auth]\n",
      "   ------------------------------- -------- 31/40 [google-auth]\n",
      "   ------------------------------- -------- 31/40 [google-auth]\n",
      "   ------------------------------- -------- 31/40 [google-auth]\n",
      "   ------------------------------- -------- 31/40 [google-auth]\n",
      "   ------------------------------- -------- 31/40 [google-auth]\n",
      "   ------------------------------- -------- 31/40 [google-auth]\n",
      "   ------------------------------- -------- 31/40 [google-auth]\n",
      "   ------------------------------- -------- 31/40 [google-auth]\n",
      "   ------------------------------- -------- 31/40 [google-auth]\n",
      "   ------------------------------- -------- 31/40 [google-auth]\n",
      "   -------------------------------- ------- 32/40 [gitpython]\n",
      "   -------------------------------- ------- 32/40 [gitpython]\n",
      "   -------------------------------- ------- 32/40 [gitpython]\n",
      "   -------------------------------- ------- 32/40 [gitpython]\n",
      "   -------------------------------- ------- 32/40 [gitpython]\n",
      "   --------------------------------- ------ 33/40 [alembic]\n",
      "   --------------------------------- ------ 33/40 [alembic]\n",
      "   --------------------------------- ------ 33/40 [alembic]\n",
      "   --------------------------------- ------ 33/40 [alembic]\n",
      "   --------------------------------- ------ 33/40 [alembic]\n",
      "   --------------------------------- ------ 33/40 [alembic]\n",
      "   --------------------------------- ------ 33/40 [alembic]\n",
      "   --------------------------------- ------ 33/40 [alembic]\n",
      "   --------------------------------- ------ 33/40 [alembic]\n",
      "   --------------------------------- ------ 33/40 [alembic]\n",
      "   --------------------------------- ------ 33/40 [alembic]\n",
      "   ---------------------------- ---- 34/40 [opentelemetry-semantic-conventions]\n",
      "   ---------------------------- ---- 34/40 [opentelemetry-semantic-conventions]\n",
      "   ---------------------------- ---- 34/40 [opentelemetry-semantic-conventions]\n",
      "   ---------------------------- ---- 34/40 [opentelemetry-semantic-conventions]\n",
      "   ---------------------------- ---- 34/40 [opentelemetry-semantic-conventions]\n",
      "   ---------------------------- ---- 34/40 [opentelemetry-semantic-conventions]\n",
      "   ---------------------------- ---- 34/40 [opentelemetry-semantic-conventions]\n",
      "   ---------------------------- ---- 34/40 [opentelemetry-semantic-conventions]\n",
      "   ---------------------------- ---- 34/40 [opentelemetry-semantic-conventions]\n",
      "   ---------------------------- ---- 34/40 [opentelemetry-semantic-conventions]\n",
      "   ---------------------------- ---- 34/40 [opentelemetry-semantic-conventions]\n",
      "   ---------------------------- ---- 34/40 [opentelemetry-semantic-conventions]\n",
      "   ---------------------------- ---- 34/40 [opentelemetry-semantic-conventions]\n",
      "   ---------------------------- ---- 34/40 [opentelemetry-semantic-conventions]\n",
      "   ---------------------------- ---- 34/40 [opentelemetry-semantic-conventions]\n",
      "   ----------------------------------- ---- 35/40 [fastapi]\n",
      "   ----------------------------------- ---- 35/40 [fastapi]\n",
      "   ----------------------------------- ---- 35/40 [fastapi]\n",
      "   ----------------------------------- ---- 35/40 [fastapi]\n",
      "   ----------------------------------- ---- 35/40 [fastapi]\n",
      "   ----------------------------------- ---- 35/40 [fastapi]\n",
      "   ------------------------------------ --- 36/40 [databricks-sdk]\n",
      "   ------------------------------------ --- 36/40 [databricks-sdk]\n",
      "   ------------------------------------ --- 36/40 [databricks-sdk]\n",
      "   ------------------------------------ --- 36/40 [databricks-sdk]\n",
      "   ------------------------------------ --- 36/40 [databricks-sdk]\n",
      "   ------------------------------------ --- 36/40 [databricks-sdk]\n",
      "   ------------------------------------ --- 36/40 [databricks-sdk]\n",
      "   ------------------------------------ --- 36/40 [databricks-sdk]\n",
      "   ------------------------------------ --- 36/40 [databricks-sdk]\n",
      "   ------------------------------------ --- 36/40 [databricks-sdk]\n",
      "   ------------------------------------ --- 36/40 [databricks-sdk]\n",
      "   ------------------------------------ --- 36/40 [databricks-sdk]\n",
      "   ------------------------------------ --- 36/40 [databricks-sdk]\n",
      "   ------------------------------------ --- 36/40 [databricks-sdk]\n",
      "   ------------------------------------ --- 36/40 [databricks-sdk]\n",
      "   ------------------------------------- -- 37/40 [opentelemetry-sdk]\n",
      "   ------------------------------------- -- 37/40 [opentelemetry-sdk]\n",
      "   ------------------------------------- -- 37/40 [opentelemetry-sdk]\n",
      "   ------------------------------------- -- 37/40 [opentelemetry-sdk]\n",
      "   ------------------------------------- -- 37/40 [opentelemetry-sdk]\n",
      "   ------------------------------------- -- 37/40 [opentelemetry-sdk]\n",
      "   -------------------------------------- - 38/40 [mlflow-skinny]\n",
      "   -------------------------------------- - 38/40 [mlflow-skinny]\n",
      "   -------------------------------------- - 38/40 [mlflow-skinny]\n",
      "   -------------------------------------- - 38/40 [mlflow-skinny]\n",
      "   -------------------------------------- - 38/40 [mlflow-skinny]\n",
      "   -------------------------------------- - 38/40 [mlflow-skinny]\n",
      "   -------------------------------------- - 38/40 [mlflow-skinny]\n",
      "   -------------------------------------- - 38/40 [mlflow-skinny]\n",
      "   -------------------------------------- - 38/40 [mlflow-skinny]\n",
      "   -------------------------------------- - 38/40 [mlflow-skinny]\n",
      "   -------------------------------------- - 38/40 [mlflow-skinny]\n",
      "   -------------------------------------- - 38/40 [mlflow-skinny]\n",
      "   -------------------------------------- - 38/40 [mlflow-skinny]\n",
      "   -------------------------------------- - 38/40 [mlflow-skinny]\n",
      "   -------------------------------------- - 38/40 [mlflow-skinny]\n",
      "   -------------------------------------- - 38/40 [mlflow-skinny]\n",
      "   -------------------------------------- - 38/40 [mlflow-skinny]\n",
      "   -------------------------------------- - 38/40 [mlflow-skinny]\n",
      "   -------------------------------------- - 38/40 [mlflow-skinny]\n",
      "   -------------------------------------- - 38/40 [mlflow-skinny]\n",
      "   -------------------------------------- - 38/40 [mlflow-skinny]\n",
      "   -------------------------------------- - 38/40 [mlflow-skinny]\n",
      "   -------------------------------------- - 38/40 [mlflow-skinny]\n",
      "   -------------------------------------- - 38/40 [mlflow-skinny]\n",
      "   -------------------------------------- - 38/40 [mlflow-skinny]\n",
      "   -------------------------------------- - 38/40 [mlflow-skinny]\n",
      "   -------------------------------------- - 38/40 [mlflow-skinny]\n",
      "   -------------------------------------- - 38/40 [mlflow-skinny]\n",
      "   -------------------------------------- - 38/40 [mlflow-skinny]\n",
      "   -------------------------------------- - 38/40 [mlflow-skinny]\n",
      "   -------------------------------------- - 38/40 [mlflow-skinny]\n",
      "   -------------------------------------- - 38/40 [mlflow-skinny]\n",
      "   -------------------------------------- - 38/40 [mlflow-skinny]\n",
      "   -------------------------------------- - 38/40 [mlflow-skinny]\n",
      "   -------------------------------------- - 38/40 [mlflow-skinny]\n",
      "   -------------------------------------- - 38/40 [mlflow-skinny]\n",
      "   -------------------------------------- - 38/40 [mlflow-skinny]\n",
      "   -------------------------------------- - 38/40 [mlflow-skinny]\n",
      "   -------------------------------------- - 38/40 [mlflow-skinny]\n",
      "   -------------------------------------- - 38/40 [mlflow-skinny]\n",
      "   -------------------------------------- - 38/40 [mlflow-skinny]\n",
      "   -------------------------------------- - 38/40 [mlflow-skinny]\n",
      "   -------------------------------------- - 38/40 [mlflow-skinny]\n",
      "   -------------------------------------- - 38/40 [mlflow-skinny]\n",
      "   -------------------------------------- - 38/40 [mlflow-skinny]\n",
      "   -------------------------------------- - 38/40 [mlflow-skinny]\n",
      "   -------------------------------------- - 38/40 [mlflow-skinny]\n",
      "   -------------------------------------- - 38/40 [mlflow-skinny]\n",
      "   -------------------------------------- - 38/40 [mlflow-skinny]\n",
      "   -------------------------------------- - 38/40 [mlflow-skinny]\n",
      "   -------------------------------------- - 38/40 [mlflow-skinny]\n",
      "   -------------------------------------- - 38/40 [mlflow-skinny]\n",
      "   -------------------------------------- - 38/40 [mlflow-skinny]\n",
      "   -------------------------------------- - 38/40 [mlflow-skinny]\n",
      "   -------------------------------------- - 38/40 [mlflow-skinny]\n",
      "   -------------------------------------- - 38/40 [mlflow-skinny]\n",
      "   -------------------------------------- - 38/40 [mlflow-skinny]\n",
      "   -------------------------------------- - 38/40 [mlflow-skinny]\n",
      "   -------------------------------------- - 38/40 [mlflow-skinny]\n",
      "   -------------------------------------- - 38/40 [mlflow-skinny]\n",
      "   -------------------------------------- - 38/40 [mlflow-skinny]\n",
      "   -------------------------------------- - 38/40 [mlflow-skinny]\n",
      "   -------------------------------------- - 38/40 [mlflow-skinny]\n",
      "   -------------------------------------- - 38/40 [mlflow-skinny]\n",
      "   -------------------------------------- - 38/40 [mlflow-skinny]\n",
      "   -------------------------------------- - 38/40 [mlflow-skinny]\n",
      "   -------------------------------------- - 38/40 [mlflow-skinny]\n",
      "   -------------------------------------- - 38/40 [mlflow-skinny]\n",
      "   -------------------------------------- - 38/40 [mlflow-skinny]\n",
      "   -------------------------------------- - 38/40 [mlflow-skinny]\n",
      "   -------------------------------------- - 38/40 [mlflow-skinny]\n",
      "   -------------------------------------- - 38/40 [mlflow-skinny]\n",
      "   -------------------------------------- - 38/40 [mlflow-skinny]\n",
      "   -------------------------------------- - 38/40 [mlflow-skinny]\n",
      "   -------------------------------------- - 38/40 [mlflow-skinny]\n",
      "   -------------------------------------- - 38/40 [mlflow-skinny]\n",
      "   -------------------------------------- - 38/40 [mlflow-skinny]\n",
      "   -------------------------------------- - 38/40 [mlflow-skinny]\n",
      "   -------------------------------------- - 38/40 [mlflow-skinny]\n",
      "   -------------------------------------- - 38/40 [mlflow-skinny]\n",
      "   -------------------------------------- - 38/40 [mlflow-skinny]\n",
      "   -------------------------------------- - 38/40 [mlflow-skinny]\n",
      "   -------------------------------------- - 38/40 [mlflow-skinny]\n",
      "   -------------------------------------- - 38/40 [mlflow-skinny]\n",
      "   -------------------------------------- - 38/40 [mlflow-skinny]\n",
      "   -------------------------------------- - 38/40 [mlflow-skinny]\n",
      "   -------------------------------------- - 38/40 [mlflow-skinny]\n",
      "   -------------------------------------- - 38/40 [mlflow-skinny]\n",
      "   -------------------------------------- - 38/40 [mlflow-skinny]\n",
      "   -------------------------------------- - 38/40 [mlflow-skinny]\n",
      "   -------------------------------------- - 38/40 [mlflow-skinny]\n",
      "   -------------------------------------- - 38/40 [mlflow-skinny]\n",
      "   -------------------------------------- - 38/40 [mlflow-skinny]\n",
      "   ---------------------------------------  39/40 [mlflow]\n",
      "   ---------------------------------------  39/40 [mlflow]\n",
      "   ---------------------------------------  39/40 [mlflow]\n",
      "   ---------------------------------------  39/40 [mlflow]\n",
      "   ---------------------------------------  39/40 [mlflow]\n",
      "   ---------------------------------------  39/40 [mlflow]\n",
      "   ---------------------------------------  39/40 [mlflow]\n",
      "   ---------------------------------------  39/40 [mlflow]\n",
      "   ---------------------------------------  39/40 [mlflow]\n",
      "   ---------------------------------------  39/40 [mlflow]\n",
      "   ---------------------------------------  39/40 [mlflow]\n",
      "   ---------------------------------------  39/40 [mlflow]\n",
      "   ---------------------------------------  39/40 [mlflow]\n",
      "   ---------------------------------------  39/40 [mlflow]\n",
      "   ---------------------------------------  39/40 [mlflow]\n",
      "   ---------------------------------------  39/40 [mlflow]\n",
      "   ---------------------------------------  39/40 [mlflow]\n",
      "   ---------------------------------------  39/40 [mlflow]\n",
      "   ---------------------------------------  39/40 [mlflow]\n",
      "   ---------------------------------------  39/40 [mlflow]\n",
      "   ---------------------------------------  39/40 [mlflow]\n",
      "   ---------------------------------------  39/40 [mlflow]\n",
      "   ---------------------------------------  39/40 [mlflow]\n",
      "   ---------------------------------------  39/40 [mlflow]\n",
      "   ---------------------------------------  39/40 [mlflow]\n",
      "   ---------------------------------------  39/40 [mlflow]\n",
      "   ---------------------------------------  39/40 [mlflow]\n",
      "   ---------------------------------------  39/40 [mlflow]\n",
      "   ---------------------------------------  39/40 [mlflow]\n",
      "   ---------------------------------------  39/40 [mlflow]\n",
      "   ---------------------------------------  39/40 [mlflow]\n",
      "   ---------------------------------------  39/40 [mlflow]\n",
      "   ---------------------------------------  39/40 [mlflow]\n",
      "   ---------------------------------------  39/40 [mlflow]\n",
      "   ---------------------------------------  39/40 [mlflow]\n",
      "   ---------------------------------------  39/40 [mlflow]\n",
      "   ---------------------------------------  39/40 [mlflow]\n",
      "   ---------------------------------------  39/40 [mlflow]\n",
      "   ---------------------------------------  39/40 [mlflow]\n",
      "   ---------------------------------------  39/40 [mlflow]\n",
      "   ---------------------------------------  39/40 [mlflow]\n",
      "   ---------------------------------------  39/40 [mlflow]\n",
      "   ---------------------------------------  39/40 [mlflow]\n",
      "   ---------------------------------------  39/40 [mlflow]\n",
      "   ---------------------------------------  39/40 [mlflow]\n",
      "   ---------------------------------------  39/40 [mlflow]\n",
      "   ---------------------------------------  39/40 [mlflow]\n",
      "   ---------------------------------------  39/40 [mlflow]\n",
      "   ---------------------------------------  39/40 [mlflow]\n",
      "   ---------------------------------------  39/40 [mlflow]\n",
      "   ---------------------------------------  39/40 [mlflow]\n",
      "   ---------------------------------------  39/40 [mlflow]\n",
      "   ---------------------------------------  39/40 [mlflow]\n",
      "   ---------------------------------------  39/40 [mlflow]\n",
      "   ---------------------------------------  39/40 [mlflow]\n",
      "   ---------------------------------------  39/40 [mlflow]\n",
      "   ---------------------------------------  39/40 [mlflow]\n",
      "   ---------------------------------------  39/40 [mlflow]\n",
      "   ---------------------------------------  39/40 [mlflow]\n",
      "   ---------------------------------------  39/40 [mlflow]\n",
      "   ---------------------------------------  39/40 [mlflow]\n",
      "   ---------------------------------------  39/40 [mlflow]\n",
      "   ---------------------------------------  39/40 [mlflow]\n",
      "   ---------------------------------------- 40/40 [mlflow]\n",
      "\n",
      "Successfully installed Flask-3.1.1 Mako-1.3.10 alembic-1.16.2 anyio-4.9.0 blinker-1.9.0 cachetools-5.5.2 click-8.2.1 cloudpickle-3.1.1 databricks-sdk-0.57.0 docker-7.1.0 fastapi-0.115.14 gitdb-4.0.12 gitpython-3.1.44 google-auth-2.40.3 graphene-3.4.3 graphql-core-3.2.6 graphql-relay-3.2.0 greenlet-3.2.3 h11-0.16.0 importlib_metadata-8.7.0 itsdangerous-2.2.0 mlflow-3.1.1 mlflow-skinny-3.1.1 opentelemetry-api-1.34.1 opentelemetry-sdk-1.34.1 opentelemetry-semantic-conventions-0.55b1 protobuf-6.31.1 pyarrow-20.0.0 pyasn1-0.6.1 pyasn1-modules-0.4.2 rsa-4.9.1 smmap-5.0.2 sniffio-1.3.1 sqlalchemy-2.0.41 sqlparse-0.5.3 starlette-0.46.2 uvicorn-0.35.0 waitress-3.0.2 werkzeug-3.1.3 zipp-3.23.0\n"
     ]
    },
    {
     "name": "stderr",
     "output_type": "stream",
     "text": [
      "WARNING: Ignoring invalid distribution ~atplotlib (C:\\Users\\jaswe\\OneDrive\\Desktop\\opt\\Projects\\UnEmployment_Rate_Prediction\\venv\\Lib\\site-packages)\n",
      "WARNING: Ignoring invalid distribution ~atplotlib (C:\\Users\\jaswe\\OneDrive\\Desktop\\opt\\Projects\\UnEmployment_Rate_Prediction\\venv\\Lib\\site-packages)\n",
      "WARNING: Ignoring invalid distribution ~atplotlib (C:\\Users\\jaswe\\OneDrive\\Desktop\\opt\\Projects\\UnEmployment_Rate_Prediction\\venv\\Lib\\site-packages)\n"
     ]
    }
   ],
   "source": [
    "!pip install mlflow"
   ]
  },
  {
   "cell_type": "code",
   "execution_count": 90,
   "id": "d4a38263",
   "metadata": {},
   "outputs": [
    {
     "name": "stderr",
     "output_type": "stream",
     "text": [
      "2025/07/06 18:59:44 WARNING mlflow.models.model: `artifact_path` is deprecated. Please use `name` instead.\n",
      "2025/07/06 18:59:48 WARNING mlflow.models.model: Model logged without a signature and input example. Please set `input_example` parameter when logging the model to auto infer the model signature.\n"
     ]
    },
    {
     "name": "stdout",
     "output_type": "stream",
     "text": [
      "R2 score for Decsison tree:0.6903\n",
      "RMSE for Decision Tree 0.2146\n",
      "best params: {'max_depth': 10, 'min_samples_leaf': 1, 'min_samples_split': 2}\n"
     ]
    }
   ],
   "source": [
    "import mlflow\n",
    "import mlflow.sklearn\n",
    "from sklearn.tree import DecisionTreeRegressor\n",
    "from sklearn.model_selection import GridSearchCV\n",
    "\n",
    "mlflow.start_run()\n",
    "tscv = TimeSeriesSplit(n_splits=5)\n",
    "\n",
    "param_grid = {\n",
    "    'max_depth': [3, 5, 10, None],\n",
    "    'min_samples_split': [2,5,10],\n",
    "    'min_samples_leaf':[1,2,4]\n",
    "}\n",
    "\n",
    "dt_model = DecisionTreeRegressor(random_state=42)\n",
    "\n",
    "grid_search = GridSearchCV(estimator=dt_model, param_grid=param_grid, scoring='neg_mean_squared_error', cv=tscv)\n",
    "\n",
    "grid_search.fit(X_train, y_train)\n",
    "\n",
    "best_model = grid_search.best_estimator_\n",
    "\n",
    "y_pred_dt = best_model.predict(X_test)\n",
    "\n",
    "r2_score_dt = r2_score(y_test, y_pred_dt)\n",
    "mse_dt = mean_squared_error(y_test,y_pred_dt)\n",
    "rmse_dt = np.sqrt(mse_dt)\n",
    "\n",
    "mlflow.log_metric('r2_score for decision tree', r2_score_dt)\n",
    "mlflow.log_metric('root_mean_squared_error_decision_tree', rmse_dt)\n",
    "\n",
    "mlflow.log_params(grid_search.best_params_)\n",
    "mlflow.sklearn.log_model(best_model,\"Decision tree Model\")\n",
    "\n",
    "mlflow.end_run()\n",
    "\n",
    "print(f'R2 score for Decsison tree:{r2_score_dt:.4f}')\n",
    "print(f'RMSE for Decision Tree {rmse_dt:.4f}')\n",
    "print(f'best params: {grid_search.best_params_}')\n",
    "\n"
   ]
  },
  {
   "cell_type": "code",
   "execution_count": 91,
   "id": "3b6e18b5",
   "metadata": {},
   "outputs": [
    {
     "name": "stdout",
     "output_type": "stream",
     "text": [
      "Tracking URI: file:///c:/Users/jaswe/OneDrive/Desktop/opt/Projects/UnEmployment_Rate_Prediction/mlruns\n"
     ]
    }
   ],
   "source": [
    "print(\"Tracking URI:\", mlflow.get_tracking_uri())"
   ]
  },
  {
   "cell_type": "code",
   "execution_count": 92,
   "id": "c9f2164e",
   "metadata": {},
   "outputs": [],
   "source": [
    "mlflow.set_tracking_uri(\"http://127.0.0.1:5000\")"
   ]
  },
  {
   "cell_type": "code",
   "execution_count": 48,
   "id": "ab4cb8e5",
   "metadata": {},
   "outputs": [],
   "source": [
    "mlflow.set_tag(\"model_type\", \"Decesion tree\")\n",
    "mlflow.set_tag(\"notes\", \"Baseline tree model shows underfitting\")"
   ]
  },
  {
   "cell_type": "code",
   "execution_count": 51,
   "id": "34fc4c82",
   "metadata": {},
   "outputs": [
    {
     "data": {
      "image/png": "[encoded data removed]",
      "text/plain": [
       "<Figure size 1000x600 with 1 Axes>"
      ]
     },
     "metadata": {},
     "output_type": "display_data"
    }
   ],
   "source": [
    "feature_importance = pd.Series(best_model.feature_importances_, index = X_train.columns)\n",
    "top_features = feature_importance.sort_values(ascending=False).head(20)\n",
    "plt.figure(figsize=(10,6))\n",
    "sns.barplot(x=top_features.values, y=top_features.index)\n",
    "plt.tight_layout()\n",
    "plt.savefig(\"dtree_feature_importance.png\")\n",
    "mlflow.log_artifact(\"dtree_feature_importance.png\")\n",
    "plt.show()"
   ]
  },
  {
   "cell_type": "code",
   "execution_count": 54,
   "id": "261606b2",
   "metadata": {},
   "outputs": [
    {
     "name": "stderr",
     "output_type": "stream",
     "text": [
      "2025/07/04 18:39:39 WARNING mlflow.models.model: `artifact_path` is deprecated. Please use `name` instead.\n",
      "2025/07/04 18:39:44 WARNING mlflow.models.model: Model logged without a signature and input example. Please set `input_example` parameter when logging the model to auto infer the model signature.\n"
     ]
    },
    {
     "name": "stdout",
     "output_type": "stream",
     "text": [
      "R2 score for Decsison tree:0.7152\n",
      "RMSE for Decision Tree 0.2058\n",
      "best params: {'max_depth': 10, 'min_samples_leaf': 1, 'min_samples_split': 5, 'n_estimators': 100}\n"
     ]
    }
   ],
   "source": [
    "import mlflow.sklearn\n",
    "from sklearn.ensemble import RandomForestRegressor\n",
    "\n",
    "\n",
    "\n",
    "param_grid = {\n",
    "    'n_estimators': [100, 200],\n",
    "    'max_depth': [10, 20, None],\n",
    "    'min_samples_split': [2, 5],\n",
    "    'min_samples_leaf':[1,2]\n",
    "}\n",
    "\n",
    "rf = RandomForestRegressor(random_state=42)\n",
    "\n",
    "grid_search_rf = GridSearchCV(estimator=rf, param_grid=param_grid, cv = TimeSeriesSplit(n_splits=5), scoring='neg_mean_squared_error')\n",
    "grid_search_rf.fit(X_train, y_train)\n",
    "\n",
    "best_model_rf = grid_search_rf.best_estimator_\n",
    "\n",
    "y_pred_rf = best_model_rf.predict(X_test)\n",
    "\n",
    "r2_score_rf = r2_score(y_test, y_pred_rf)\n",
    "rmse_rf = np.sqrt(mean_squared_error(y_test, y_pred_rf))\n",
    "\n",
    "mlflow.set_tag('model_type', 'Random Forest Tree')\n",
    "best_params = grid_search_rf.best_params_\n",
    "mlflow.log_metric('r2_score_random_forest', r2_score_rf)\n",
    "mlflow.log_metric('rmse_rf', rmse_rf)\n",
    "mlflow.sklearn.log_model(best_model_rf,'Random Forest Model')\n",
    "\n",
    "mlflow.end_run()\n",
    "\n",
    "print(f'R2 score for Decsison tree:{r2_score_rf:.4f}')\n",
    "print(f'RMSE for Decision Tree {rmse_rf:.4f}')\n",
    "print(f'best params: {grid_search_rf.best_params_}')\n",
    "\n"
   ]
  },
  {
   "cell_type": "code",
   "execution_count": 55,
   "id": "fb4dc240",
   "metadata": {},
   "outputs": [
    {
     "name": "stdout",
     "output_type": "stream",
     "text": [
      "Requirement already satisfied: xgboost in c:\\users\\jaswe\\onedrive\\desktop\\opt\\projects\\unemployment_rate_prediction\\venv\\lib\\site-packages (3.0.2)\n",
      "Requirement already satisfied: numpy in c:\\users\\jaswe\\onedrive\\desktop\\opt\\projects\\unemployment_rate_prediction\\venv\\lib\\site-packages (from xgboost) (2.1.3)\n",
      "Requirement already satisfied: scipy in c:\\users\\jaswe\\onedrive\\desktop\\opt\\projects\\unemployment_rate_prediction\\venv\\lib\\site-packages (from xgboost) (1.15.3)\n"
     ]
    },
    {
     "name": "stderr",
     "output_type": "stream",
     "text": [
      "WARNING: Ignoring invalid distribution ~atplotlib (C:\\Users\\jaswe\\OneDrive\\Desktop\\opt\\Projects\\UnEmployment_Rate_Prediction\\venv\\Lib\\site-packages)\n",
      "WARNING: Ignoring invalid distribution ~atplotlib (C:\\Users\\jaswe\\OneDrive\\Desktop\\opt\\Projects\\UnEmployment_Rate_Prediction\\venv\\Lib\\site-packages)\n",
      "WARNING: Ignoring invalid distribution ~atplotlib (C:\\Users\\jaswe\\OneDrive\\Desktop\\opt\\Projects\\UnEmployment_Rate_Prediction\\venv\\Lib\\site-packages)\n"
     ]
    }
   ],
   "source": [
    "!pip install xgboost"
   ]
  },
  {
   "cell_type": "code",
   "execution_count": null,
   "id": "a439c1f0",
   "metadata": {},
   "outputs": [
    {
     "ename": "MlflowException",
     "evalue": "Changing param values is not allowed. Param with key='Best Paramter' was already logged with value='{'learning_rate': 0.1, 'max_depth': 10, 'n_estimators': 200, 'subsample': 1.0}' for run ID='0e1d2dcfee7f4311bc490ae16bb30517'. Attempted logging new value '{'colsample_bytree': 0.8, 'gamma': 0, 'learning_rate': 0.15, 'max_depth': 5, 'n_estimators': 200, 'reg_alpha': 0.01, 'subsample': 0.7}'.\n\nThe cause of this error is typically due to repeated calls\nto an individual run_id event logging.\n\nIncorrect Example:\n---------------------------------------\nwith mlflow.start_run():\n    mlflow.log_param(\"depth\", 3)\n    mlflow.log_param(\"depth\", 5)\n---------------------------------------\n\nWhich will throw an MlflowException for overwriting a\nlogged parameter.\n\nCorrect Example:\n---------------------------------------\nwith mlflow.start_run():\n    with mlflow.start_run(nested=True):\n        mlflow.log_param(\"depth\", 3)\n    with mlflow.start_run(nested=True):\n        mlflow.log_param(\"depth\", 5)\n---------------------------------------\n\nWhich will create a new nested run for each individual\nmodel and prevent parameter key collisions within the\ntracking store.",
     "output_type": "error",
     "traceback": [
      "\u001b[31m---------------------------------------------------------------------------\u001b[39m",
      "\u001b[31mMlflowException\u001b[39m                           Traceback (most recent call last)",
      "\u001b[36mFile \u001b[39m\u001b[32mc:\\Users\\jaswe\\OneDrive\\Desktop\\opt\\Projects\\UnEmployment_Rate_Prediction\\venv\\Lib\\site-packages\\mlflow\\tracking\\_tracking_service\\client.py:386\u001b[39m, in \u001b[36mTrackingServiceClient.log_param\u001b[39m\u001b[34m(self, run_id, key, value, synchronous)\u001b[39m\n\u001b[32m    385\u001b[39m \u001b[38;5;28;01mif\u001b[39;00m synchronous:\n\u001b[32m--> \u001b[39m\u001b[32m386\u001b[39m     \u001b[38;5;28;43mself\u001b[39;49m\u001b[43m.\u001b[49m\u001b[43mstore\u001b[49m\u001b[43m.\u001b[49m\u001b[43mlog_param\u001b[49m\u001b[43m(\u001b[49m\u001b[43mrun_id\u001b[49m\u001b[43m,\u001b[49m\u001b[43m \u001b[49m\u001b[43mparam\u001b[49m\u001b[43m)\u001b[49m\n\u001b[32m    387\u001b[39m     \u001b[38;5;28;01mreturn\u001b[39;00m value\n",
      "\u001b[36mFile \u001b[39m\u001b[32mc:\\Users\\jaswe\\OneDrive\\Desktop\\opt\\Projects\\UnEmployment_Rate_Prediction\\venv\\Lib\\site-packages\\mlflow\\store\\tracking\\file_store.py:1074\u001b[39m, in \u001b[36mFileStore.log_param\u001b[39m\u001b[34m(self, run_id, param)\u001b[39m\n\u001b[32m   1073\u001b[39m check_run_is_active(run_info)\n\u001b[32m-> \u001b[39m\u001b[32m1074\u001b[39m \u001b[38;5;28;43mself\u001b[39;49m\u001b[43m.\u001b[49m\u001b[43m_log_run_param\u001b[49m\u001b[43m(\u001b[49m\u001b[43mrun_info\u001b[49m\u001b[43m,\u001b[49m\u001b[43m \u001b[49m\u001b[43mparam\u001b[49m\u001b[43m)\u001b[49m\n",
      "\u001b[36mFile \u001b[39m\u001b[32mc:\\Users\\jaswe\\OneDrive\\Desktop\\opt\\Projects\\UnEmployment_Rate_Prediction\\venv\\Lib\\site-packages\\mlflow\\store\\tracking\\file_store.py:1080\u001b[39m, in \u001b[36mFileStore._log_run_param\u001b[39m\u001b[34m(self, run_info, param)\u001b[39m\n\u001b[32m   1079\u001b[39m \u001b[38;5;28;01mif\u001b[39;00m os.path.exists(param_path):\n\u001b[32m-> \u001b[39m\u001b[32m1080\u001b[39m     \u001b[38;5;28;43mself\u001b[39;49m\u001b[43m.\u001b[49m\u001b[43m_validate_new_param_value\u001b[49m\u001b[43m(\u001b[49m\n\u001b[32m   1081\u001b[39m \u001b[43m        \u001b[49m\u001b[43mparam_path\u001b[49m\u001b[43m=\u001b[49m\u001b[43mparam_path\u001b[49m\u001b[43m,\u001b[49m\n\u001b[32m   1082\u001b[39m \u001b[43m        \u001b[49m\u001b[43mparam_key\u001b[49m\u001b[43m=\u001b[49m\u001b[43mparam\u001b[49m\u001b[43m.\u001b[49m\u001b[43mkey\u001b[49m\u001b[43m,\u001b[49m\n\u001b[32m   1083\u001b[39m \u001b[43m        \u001b[49m\u001b[43mrun_id\u001b[49m\u001b[43m=\u001b[49m\u001b[43mrun_info\u001b[49m\u001b[43m.\u001b[49m\u001b[43mrun_id\u001b[49m\u001b[43m,\u001b[49m\n\u001b[32m   1084\u001b[39m \u001b[43m        \u001b[49m\u001b[43mnew_value\u001b[49m\u001b[43m=\u001b[49m\u001b[43mwriteable_param_value\u001b[49m\u001b[43m,\u001b[49m\n\u001b[32m   1085\u001b[39m \u001b[43m    \u001b[49m\u001b[43m)\u001b[49m\n\u001b[32m   1086\u001b[39m make_containing_dirs(param_path)\n",
      "\u001b[36mFile \u001b[39m\u001b[32mc:\\Users\\jaswe\\OneDrive\\Desktop\\opt\\Projects\\UnEmployment_Rate_Prediction\\venv\\Lib\\site-packages\\mlflow\\store\\tracking\\file_store.py:1100\u001b[39m, in \u001b[36mFileStore._validate_new_param_value\u001b[39m\u001b[34m(self, param_path, param_key, run_id, new_value)\u001b[39m\n\u001b[32m   1099\u001b[39m \u001b[38;5;28;01mif\u001b[39;00m current_value != new_value:\n\u001b[32m-> \u001b[39m\u001b[32m1100\u001b[39m     \u001b[38;5;28;01mraise\u001b[39;00m MlflowException(\n\u001b[32m   1101\u001b[39m         \u001b[33mf\u001b[39m\u001b[33m\"\u001b[39m\u001b[33mChanging param values is not allowed. Param with key=\u001b[39m\u001b[33m'\u001b[39m\u001b[38;5;132;01m{\u001b[39;00mparam_key\u001b[38;5;132;01m}\u001b[39;00m\u001b[33m'\u001b[39m\u001b[33m was already\u001b[39m\u001b[33m\"\u001b[39m\n\u001b[32m   1102\u001b[39m         \u001b[33mf\u001b[39m\u001b[33m\"\u001b[39m\u001b[33m logged with value=\u001b[39m\u001b[33m'\u001b[39m\u001b[38;5;132;01m{\u001b[39;00mcurrent_value\u001b[38;5;132;01m}\u001b[39;00m\u001b[33m'\u001b[39m\u001b[33m for run ID=\u001b[39m\u001b[33m'\u001b[39m\u001b[38;5;132;01m{\u001b[39;00mrun_id\u001b[38;5;132;01m}\u001b[39;00m\u001b[33m'\u001b[39m\u001b[33m. Attempted logging\u001b[39m\u001b[33m\"\u001b[39m\n\u001b[32m   1103\u001b[39m         \u001b[33mf\u001b[39m\u001b[33m\"\u001b[39m\u001b[33m new value \u001b[39m\u001b[33m'\u001b[39m\u001b[38;5;132;01m{\u001b[39;00mnew_value\u001b[38;5;132;01m}\u001b[39;00m\u001b[33m'\u001b[39m\u001b[33m.\u001b[39m\u001b[33m\"\u001b[39m,\n\u001b[32m   1104\u001b[39m         databricks_pb2.INVALID_PARAMETER_VALUE,\n\u001b[32m   1105\u001b[39m     )\n",
      "\u001b[31mMlflowException\u001b[39m: Changing param values is not allowed. Param with key='Best Paramter' was already logged with value='{'learning_rate': 0.1, 'max_depth': 10, 'n_estimators': 200, 'subsample': 1.0}' for run ID='0e1d2dcfee7f4311bc490ae16bb30517'. Attempted logging new value '{'colsample_bytree': 0.8, 'gamma': 0, 'learning_rate': 0.15, 'max_depth': 5, 'n_estimators': 200, 'reg_alpha': 0.01, 'subsample': 0.7}'.",
      "\nDuring handling of the above exception, another exception occurred:\n",
      "\u001b[31mMlflowException\u001b[39m                           Traceback (most recent call last)",
      "\u001b[36mCell\u001b[39m\u001b[36m \u001b[39m\u001b[32mIn[58]\u001b[39m\u001b[32m, line 27\u001b[39m\n\u001b[32m     25\u001b[39m rmse_xgr = np.sqrt(mean_squared_error(y_test, y_pred_xgr))\n\u001b[32m     26\u001b[39m mlflow.set_tag(\u001b[33m'\u001b[39m\u001b[33mmodel\u001b[39m\u001b[33m'\u001b[39m,\u001b[33m\"\u001b[39m\u001b[33mXGBRegressor\u001b[39m\u001b[33m\"\u001b[39m)\n\u001b[32m---> \u001b[39m\u001b[32m27\u001b[39m \u001b[43mmlflow\u001b[49m\u001b[43m.\u001b[49m\u001b[43mlog_param\u001b[49m\u001b[43m(\u001b[49m\u001b[33;43m'\u001b[39;49m\u001b[33;43mBest Paramter\u001b[39;49m\u001b[33;43m'\u001b[39;49m\u001b[43m,\u001b[49m\u001b[43mgrid_search_xgr\u001b[49m\u001b[43m.\u001b[49m\u001b[43mbest_params_\u001b[49m\u001b[43m)\u001b[49m\n\u001b[32m     28\u001b[39m mlflow.log_metric(\u001b[33m'\u001b[39m\u001b[33mR2score for XGBregressor\u001b[39m\u001b[33m'\u001b[39m, r2_score_xgr)\n\u001b[32m     29\u001b[39m mlflow.log_metric(\u001b[33m'\u001b[39m\u001b[33mRMSE for XGBRegressor\u001b[39m\u001b[33m'\u001b[39m, rmse_xgr)\n",
      "\u001b[36mFile \u001b[39m\u001b[32mc:\\Users\\jaswe\\OneDrive\\Desktop\\opt\\Projects\\UnEmployment_Rate_Prediction\\venv\\Lib\\site-packages\\mlflow\\tracking\\fluent.py:775\u001b[39m, in \u001b[36mlog_param\u001b[39m\u001b[34m(key, value, synchronous)\u001b[39m\n\u001b[32m    773\u001b[39m run_id = _get_or_start_run().info.run_id\n\u001b[32m    774\u001b[39m synchronous = synchronous \u001b[38;5;28;01mif\u001b[39;00m synchronous \u001b[38;5;129;01mis\u001b[39;00m \u001b[38;5;129;01mnot\u001b[39;00m \u001b[38;5;28;01mNone\u001b[39;00m \u001b[38;5;28;01melse\u001b[39;00m \u001b[38;5;129;01mnot\u001b[39;00m MLFLOW_ENABLE_ASYNC_LOGGING.get()\n\u001b[32m--> \u001b[39m\u001b[32m775\u001b[39m \u001b[38;5;28;01mreturn\u001b[39;00m \u001b[43mMlflowClient\u001b[49m\u001b[43m(\u001b[49m\u001b[43m)\u001b[49m\u001b[43m.\u001b[49m\u001b[43mlog_param\u001b[49m\u001b[43m(\u001b[49m\u001b[43mrun_id\u001b[49m\u001b[43m,\u001b[49m\u001b[43m \u001b[49m\u001b[43mkey\u001b[49m\u001b[43m,\u001b[49m\u001b[43m \u001b[49m\u001b[43mvalue\u001b[49m\u001b[43m,\u001b[49m\u001b[43m \u001b[49m\u001b[43msynchronous\u001b[49m\u001b[43m=\u001b[49m\u001b[43msynchronous\u001b[49m\u001b[43m)\u001b[49m\n",
      "\u001b[36mFile \u001b[39m\u001b[32mc:\\Users\\jaswe\\OneDrive\\Desktop\\opt\\Projects\\UnEmployment_Rate_Prediction\\venv\\Lib\\site-packages\\mlflow\\tracking\\client.py:2109\u001b[39m, in \u001b[36mMlflowClient.log_param\u001b[39m\u001b[34m(self, run_id, key, value, synchronous)\u001b[39m\n\u001b[32m   2105\u001b[39m synchronous = (\n\u001b[32m   2106\u001b[39m     synchronous \u001b[38;5;28;01mif\u001b[39;00m synchronous \u001b[38;5;129;01mis\u001b[39;00m \u001b[38;5;129;01mnot\u001b[39;00m \u001b[38;5;28;01mNone\u001b[39;00m \u001b[38;5;28;01melse\u001b[39;00m \u001b[38;5;129;01mnot\u001b[39;00m MLFLOW_ENABLE_ASYNC_LOGGING.get()\n\u001b[32m   2107\u001b[39m )\n\u001b[32m   2108\u001b[39m \u001b[38;5;28;01mif\u001b[39;00m synchronous:\n\u001b[32m-> \u001b[39m\u001b[32m2109\u001b[39m     \u001b[38;5;28;43mself\u001b[39;49m\u001b[43m.\u001b[49m\u001b[43m_tracking_client\u001b[49m\u001b[43m.\u001b[49m\u001b[43mlog_param\u001b[49m\u001b[43m(\u001b[49m\u001b[43mrun_id\u001b[49m\u001b[43m,\u001b[49m\u001b[43m \u001b[49m\u001b[43mkey\u001b[49m\u001b[43m,\u001b[49m\u001b[43m \u001b[49m\u001b[43mvalue\u001b[49m\u001b[43m,\u001b[49m\u001b[43m \u001b[49m\u001b[43msynchronous\u001b[49m\u001b[43m=\u001b[49m\u001b[38;5;28;43;01mTrue\u001b[39;49;00m\u001b[43m)\u001b[49m\n\u001b[32m   2110\u001b[39m     \u001b[38;5;28;01mreturn\u001b[39;00m value\n\u001b[32m   2111\u001b[39m \u001b[38;5;28;01melse\u001b[39;00m:\n",
      "\u001b[36mFile \u001b[39m\u001b[32mc:\\Users\\jaswe\\OneDrive\\Desktop\\opt\\Projects\\UnEmployment_Rate_Prediction\\venv\\Lib\\site-packages\\mlflow\\tracking\\_tracking_service\\client.py:393\u001b[39m, in \u001b[36mTrackingServiceClient.log_param\u001b[39m\u001b[34m(self, run_id, key, value, synchronous)\u001b[39m\n\u001b[32m    391\u001b[39m \u001b[38;5;28;01mif\u001b[39;00m e.error_code == ErrorCode.Name(INVALID_PARAMETER_VALUE):\n\u001b[32m    392\u001b[39m     msg = \u001b[33mf\u001b[39m\u001b[33m\"\u001b[39m\u001b[38;5;132;01m{\u001b[39;00me.message\u001b[38;5;132;01m}\u001b[39;00m\u001b[38;5;132;01m{\u001b[39;00mPARAM_VALIDATION_MSG\u001b[38;5;132;01m}\u001b[39;00m\u001b[33m\"\u001b[39m\n\u001b[32m--> \u001b[39m\u001b[32m393\u001b[39m     \u001b[38;5;28;01mraise\u001b[39;00m MlflowException(msg, INVALID_PARAMETER_VALUE)\n\u001b[32m    394\u001b[39m \u001b[38;5;28;01melse\u001b[39;00m:\n\u001b[32m    395\u001b[39m     \u001b[38;5;28;01mraise\u001b[39;00m e\n",
      "\u001b[31mMlflowException\u001b[39m: Changing param values is not allowed. Param with key='Best Paramter' was already logged with value='{'learning_rate': 0.1, 'max_depth': 10, 'n_estimators': 200, 'subsample': 1.0}' for run ID='0e1d2dcfee7f4311bc490ae16bb30517'. Attempted logging new value '{'colsample_bytree': 0.8, 'gamma': 0, 'learning_rate': 0.15, 'max_depth': 5, 'n_estimators': 200, 'reg_alpha': 0.01, 'subsample': 0.7}'.\n\nThe cause of this error is typically due to repeated calls\nto an individual run_id event logging.\n\nIncorrect Example:\n---------------------------------------\nwith mlflow.start_run():\n    mlflow.log_param(\"depth\", 3)\n    mlflow.log_param(\"depth\", 5)\n---------------------------------------\n\nWhich will throw an MlflowException for overwriting a\nlogged parameter.\n\nCorrect Example:\n---------------------------------------\nwith mlflow.start_run():\n    with mlflow.start_run(nested=True):\n        mlflow.log_param(\"depth\", 3)\n    with mlflow.start_run(nested=True):\n        mlflow.log_param(\"depth\", 5)\n---------------------------------------\n\nWhich will create a new nested run for each individual\nmodel and prevent parameter key collisions within the\ntracking store."
     ]
    }
   ],
   "source": [
    "import mlflow.sklearn\n",
    "from xgboost import XGBRegressor\n",
    "\n",
    "\n",
    "param_grid = {\n",
    "    'n_estimators': [100, 200, 300, 500],\n",
    "    'max_depth': [3, 5, 10, 15, 20],\n",
    "    'learning_rate': [0.01, 0.05, 0.1, 0.15, 0.3],\n",
    "    'subsample': [0.7, 0.8, 1.0],\n",
    "    'colsample_bytree': [0.7, 0.8, 1.0],\n",
    "    'gamma': [0, 0.1, 0.2],\n",
    "    'reg_alpha': [0, 0.01, 0.1]\n",
    "}\n",
    "\n",
    "xgr = XGBRegressor(objective='reg:squarederror', random_state = 42)\n",
    "grid_search_xgr = GridSearchCV(estimator=xgr, param_grid=param_grid, cv = TimeSeriesSplit(5), scoring= 'neg_mean_squared_error',n_jobs = -1)\n",
    "\n",
    "grid_search_xgr.fit(X_train, y_train)\n",
    "\n",
    "best_model_xgr = grid_search_xgr.best_estimator_\n",
    "\n",
    "y_pred_xgr = best_model_xgr.predict(X_test)\n",
    "\n",
    "r2_score_xgr = r2_score(y_test, y_pred_xgr)\n",
    "rmse_xgr = np.sqrt(mean_squared_error(y_test, y_pred_xgr))\n",
    "mlflow.set_tag('model',\"XGBRegressor\")\n",
    "mlflow.log_param('Best Paramter',grid_search_xgr.best_params_)\n",
    "mlflow.log_metric('R2score for XGBregressor', r2_score_xgr)\n",
    "mlflow.log_metric('RMSE for XGBRegressor', rmse_xgr)\n",
    "mlflow.sklearn.log_model(best_model_xgr, \"XGBRegressor Model\")\n",
    "\n"
   ]
  },
  {
   "cell_type": "code",
   "execution_count": 59,
   "id": "ec7ad66a",
   "metadata": {},
   "outputs": [
    {
     "name": "stdout",
     "output_type": "stream",
     "text": [
      "Best Params: {'colsample_bytree': 0.8, 'gamma': 0, 'learning_rate': 0.15, 'max_depth': 5, 'n_estimators': 200, 'reg_alpha': 0.01, 'subsample': 0.7}\n",
      "R² Score: 0.5932\n",
      "RMSE: 0.2459\n"
     ]
    }
   ],
   "source": [
    "print(f\"Best Params: {grid_search_xgr.best_params_}\")\n",
    "print(f\"R² Score: {r2_score_xgr:.4f}\")\n",
    "print(f\"RMSE: {rmse_xgr:.4f}\")"
   ]
  },
  {
   "cell_type": "code",
   "execution_count": 60,
   "id": "300d699d",
   "metadata": {},
   "outputs": [
    {
     "name": "stdout",
     "output_type": "stream",
     "text": [
      "Collecting lightgbm\n",
      "  Downloading lightgbm-4.6.0-py3-none-win_amd64.whl.metadata (17 kB)\n",
      "Requirement already satisfied: numpy>=1.17.0 in c:\\users\\jaswe\\onedrive\\desktop\\opt\\projects\\unemployment_rate_prediction\\venv\\lib\\site-packages (from lightgbm) (2.1.3)\n",
      "Requirement already satisfied: scipy in c:\\users\\jaswe\\onedrive\\desktop\\opt\\projects\\unemployment_rate_prediction\\venv\\lib\\site-packages (from lightgbm) (1.15.3)\n",
      "Downloading lightgbm-4.6.0-py3-none-win_amd64.whl (1.5 MB)\n",
      "   ---------------------------------------- 0.0/1.5 MB ? eta -:--:--\n",
      "   ---------------------------------------- 1.5/1.5 MB 15.2 MB/s eta 0:00:00\n",
      "Installing collected packages: lightgbm\n",
      "Successfully installed lightgbm-4.6.0\n"
     ]
    },
    {
     "name": "stderr",
     "output_type": "stream",
     "text": [
      "WARNING: Ignoring invalid distribution ~atplotlib (C:\\Users\\jaswe\\OneDrive\\Desktop\\opt\\Projects\\UnEmployment_Rate_Prediction\\venv\\Lib\\site-packages)\n",
      "WARNING: Ignoring invalid distribution ~atplotlib (C:\\Users\\jaswe\\OneDrive\\Desktop\\opt\\Projects\\UnEmployment_Rate_Prediction\\venv\\Lib\\site-packages)\n",
      "WARNING: Ignoring invalid distribution ~atplotlib (C:\\Users\\jaswe\\OneDrive\\Desktop\\opt\\Projects\\UnEmployment_Rate_Prediction\\venv\\Lib\\site-packages)\n"
     ]
    }
   ],
   "source": [
    "!pip install lightgbm"
   ]
  },
  {
   "cell_type": "code",
   "execution_count": 66,
   "id": "e3b77dbc",
   "metadata": {},
   "outputs": [],
   "source": [
    "mlflow.end_run()"
   ]
  },
  {
   "cell_type": "code",
   "execution_count": 67,
   "id": "9a528293",
   "metadata": {},
   "outputs": [
    {
     "name": "stderr",
     "output_type": "stream",
     "text": [
      "2025/07/06 16:52:19 WARNING mlflow.models.model: `artifact_path` is deprecated. Please use `name` instead.\n",
      "2025/07/06 16:52:25 WARNING mlflow.models.model: Model logged without a signature and input example. Please set `input_example` parameter when logging the model to auto infer the model signature.\n"
     ]
    },
    {
     "name": "stdout",
     "output_type": "stream",
     "text": [
      "Best Params: {'colsample_bytree': 0.8, 'learning_rate': 0.1, 'max_depth': 5, 'n_estimators': 300, 'num_leaves': 15, 'reg_alpha': 0.01, 'reg_lambda': 0.1, 'subsample': 0.7}\n",
      "R² Score: 0.4394\n",
      "RMSE: 0.2887\n"
     ]
    }
   ],
   "source": [
    "from lightgbm import LGBMRegressor\n",
    "import mlflow.sklearn\n",
    "mlflow.start_run()\n",
    "param_grid = {\n",
    "    'n_estimators': [100, 300, 500],\n",
    "    'max_depth': [5, 10, 15, -1],\n",
    "    'learning_rate': [0.01, 0.05, 0.1, 0.15],\n",
    "    'num_leaves': [15, 31, 50, 100],\n",
    "    'subsample': [0.7, 0.8, 0.9, 1.0],\n",
    "    'colsample_bytree': [0.7, 0.8, 1.0],\n",
    "    'reg_alpha': [0, 0.01, 0.1],\n",
    "    'reg_lambda': [0, 0.01, 0.1]\n",
    "}\n",
    "lgbmr = LGBMRegressor( random_state = 42)\n",
    "grid_search_lgbmr = GridSearchCV(estimator= lgbmr, param_grid=param_grid, cv= TimeSeriesSplit(5), scoring = 'neg_mean_squared_error', n_jobs=-1)\n",
    "grid_search_lgbmr.fit(X_train, y_train)\n",
    "model = grid_search_lgbmr.best_estimator_\n",
    "y_pred_lgbmr = model.predict(X_test)\n",
    "\n",
    "r2_score_lgbmr = r2_score(y_test, y_pred_lgbmr)\n",
    "rmse_lgbmr = np.sqrt(mean_squared_error(y_test, y_pred_lgbmr))\n",
    "mlflow.set_tag(\"model_type\", \"LightGBM\")\n",
    "mlflow.log_params(grid_search_lgbmr.best_params_)\n",
    "mlflow.log_metric(\"r2_score\", r2_score_lgbmr)\n",
    "mlflow.log_metric(\"rmse\", rmse_lgbmr)\n",
    "mlflow.sklearn.log_model(model, \"LightGBM\")\n",
    "mlflow.end_run()\n",
    "\n",
    "print(f\"Best Params: {grid_search_lgbmr.best_params_}\")\n",
    "print(f\"R² Score: {r2_score_lgbmr:.4f}\")\n",
    "print(f\"RMSE: {rmse_lgbmr:.4f}\")\n"
   ]
  },
  {
   "cell_type": "code",
   "execution_count": 39,
   "id": "3995c4b1",
   "metadata": {},
   "outputs": [
    {
     "name": "stderr",
     "output_type": "stream",
     "text": [
      "C:\\Users\\jaswe\\AppData\\Local\\Temp\\ipykernel_36192\\2608712997.py:2: FutureWarning: ``mlflow.tracking.client.MlflowClient.transition_model_version_stage`` is deprecated since 2.9.0. Model registry stages will be removed in a future major release. To learn more about the deprecation of model registry stages, see our migration guide here: https://mlflow.org/docs/latest/model-registry.html#migrating-from-stages\n",
      "  client.transition_model_version_stage(\n"
     ]
    },
    {
     "data": {
      "text/plain": [
       "<ModelVersion: aliases=[], creation_timestamp=1751844833143, current_stage='Production', deployment_job_state=None, description=None, last_updated_timestamp=1751844877427, metrics=None, model_id=None, name='FinalRidgeModel', params=None, run_id='db691af175924fdc8f9d65a6aecc900e', run_link=None, source='runs:/db691af175924fdc8f9d65a6aecc900e/model', status='READY', status_message=None, tags={}, user_id=None, version=6>"
      ]
     },
     "execution_count": 39,
     "metadata": {},
     "output_type": "execute_result"
    }
   ],
   "source": [
    "# Promote the new version\n",
    "client.transition_model_version_stage(\n",
    "    name=\"FinalRidgeModel\",\n",
    "    version=6,  # Replace with actual version\n",
    "    stage=\"Production\"\n",
    ")"
   ]
  },
  {
   "cell_type": "code",
   "execution_count": 40,
   "id": "fcc42c9d",
   "metadata": {},
   "outputs": [
    {
     "name": "stderr",
     "output_type": "stream",
     "text": [
      "c:\\Users\\jaswe\\OneDrive\\Desktop\\opt\\Projects\\UnEmployment_Rate_Prediction\\venv\\Lib\\site-packages\\tqdm\\auto.py:21: TqdmWarning: IProgress not found. Please update jupyter and ipywidgets. See https://ipywidgets.readthedocs.io/en/stable/user_install.html\n",
      "  from .autonotebook import tqdm as notebook_tqdm\n",
      "Downloading artifacts:   0%|          | 0/1 [00:00<?, ?it/s]\n",
      "Downloading artifacts: 100%|██████████| 5/5 [00:00<00:00, 1667.05it/s]\n"
     ]
    }
   ],
   "source": [
    "from mlflow.sklearn import load_model\n",
    "model = load_model('models:/FinalRidgeModel/Production')"
   ]
  },
  {
   "cell_type": "code",
   "execution_count": 50,
   "id": "5cb2a35d",
   "metadata": {},
   "outputs": [],
   "source": [
    "last_6_rows = X_train.tail(6)\n",
    "last_6_rows.to_csv('app/history_cache.csv', mode='w', header=True, index=False)"
   ]
  },
  {
   "cell_type": "code",
   "execution_count": 48,
   "id": "889fef33",
   "metadata": {},
   "outputs": [
    {
     "data": {
      "text/html": [
       "<div>\n",
       "<style scoped>\n",
       "    .dataframe tbody tr th:only-of-type {\n",
       "        vertical-align: middle;\n",
       "    }\n",
       "\n",
       "    .dataframe tbody tr th {\n",
       "        vertical-align: top;\n",
       "    }\n",
       "\n",
       "    .dataframe thead th {\n",
       "        text-align: right;\n",
       "    }\n",
       "</style>\n",
       "<table border=\"1\" class=\"dataframe\">\n",
       "  <thead>\n",
       "    <tr style=\"text-align: right;\">\n",
       "      <th></th>\n",
       "      <th>JTSJOL</th>\n",
       "      <th>CIVPART</th>\n",
       "      <th>ICSA</th>\n",
       "      <th>ICNSA</th>\n",
       "      <th>CCSA</th>\n",
       "      <th>CCNSA</th>\n",
       "      <th>PAYEMS</th>\n",
       "      <th>UNRATE_lag_1</th>\n",
       "      <th>UNRATE_lag_2</th>\n",
       "      <th>UNRATE_lag_3</th>\n",
       "      <th>...</th>\n",
       "      <th>PAYEMS_lag_2</th>\n",
       "      <th>PAYEMS_lag_3</th>\n",
       "      <th>PAYEMS_lag_4</th>\n",
       "      <th>PAYEMS_rolling_mean_3</th>\n",
       "      <th>PAYEMS_rolling_std_3</th>\n",
       "      <th>PAYEMS_rolling_mean_6</th>\n",
       "      <th>PAYEMS_rolling_std_6</th>\n",
       "      <th>month</th>\n",
       "      <th>year</th>\n",
       "      <th>quarter</th>\n",
       "    </tr>\n",
       "  </thead>\n",
       "  <tbody>\n",
       "    <tr>\n",
       "      <th>247</th>\n",
       "      <td>10676.9</td>\n",
       "      <td>61.8</td>\n",
       "      <td>1850000</td>\n",
       "      <td>1849796.0</td>\n",
       "      <td>15054000.0</td>\n",
       "      <td>15414223.0</td>\n",
       "      <td>146759.0</td>\n",
       "      <td>5.9</td>\n",
       "      <td>5.8</td>\n",
       "      <td>6.1</td>\n",
       "      <td>...</td>\n",
       "      <td>145032.0</td>\n",
       "      <td>144611.0</td>\n",
       "      <td>144246.0</td>\n",
       "      <td>145873.000000</td>\n",
       "      <td>864.378968</td>\n",
       "      <td>144983.000000</td>\n",
       "      <td>1182.275433</td>\n",
       "      <td>7</td>\n",
       "      <td>2021</td>\n",
       "      <td>3</td>\n",
       "    </tr>\n",
       "    <tr>\n",
       "      <th>248</th>\n",
       "      <td>10676.9</td>\n",
       "      <td>61.7</td>\n",
       "      <td>1440000</td>\n",
       "      <td>1222486.0</td>\n",
       "      <td>11145000.0</td>\n",
       "      <td>10947801.0</td>\n",
       "      <td>147246.0</td>\n",
       "      <td>5.4</td>\n",
       "      <td>5.9</td>\n",
       "      <td>5.8</td>\n",
       "      <td>...</td>\n",
       "      <td>145828.0</td>\n",
       "      <td>145032.0</td>\n",
       "      <td>144611.0</td>\n",
       "      <td>146611.000000</td>\n",
       "      <td>720.492193</td>\n",
       "      <td>145620.333333</td>\n",
       "      <td>1203.009670</td>\n",
       "      <td>8</td>\n",
       "      <td>2021</td>\n",
       "      <td>3</td>\n",
       "    </tr>\n",
       "    <tr>\n",
       "      <th>249</th>\n",
       "      <td>10676.9</td>\n",
       "      <td>61.7</td>\n",
       "      <td>1422000</td>\n",
       "      <td>1159309.0</td>\n",
       "      <td>10892000.0</td>\n",
       "      <td>9746224.0</td>\n",
       "      <td>147712.0</td>\n",
       "      <td>5.1</td>\n",
       "      <td>5.4</td>\n",
       "      <td>5.9</td>\n",
       "      <td>...</td>\n",
       "      <td>146759.0</td>\n",
       "      <td>145828.0</td>\n",
       "      <td>145032.0</td>\n",
       "      <td>147239.000000</td>\n",
       "      <td>476.538561</td>\n",
       "      <td>146198.000000</td>\n",
       "      <td>1242.597763</td>\n",
       "      <td>9</td>\n",
       "      <td>2021</td>\n",
       "      <td>3</td>\n",
       "    </tr>\n",
       "    <tr>\n",
       "      <th>250</th>\n",
       "      <td>10676.9</td>\n",
       "      <td>61.8</td>\n",
       "      <td>1424000</td>\n",
       "      <td>1288766.0</td>\n",
       "      <td>11800000.0</td>\n",
       "      <td>10242040.0</td>\n",
       "      <td>148569.0</td>\n",
       "      <td>4.7</td>\n",
       "      <td>5.1</td>\n",
       "      <td>5.4</td>\n",
       "      <td>...</td>\n",
       "      <td>147246.0</td>\n",
       "      <td>146759.0</td>\n",
       "      <td>145828.0</td>\n",
       "      <td>147842.333333</td>\n",
       "      <td>671.060603</td>\n",
       "      <td>146857.666667</td>\n",
       "      <td>1281.589430</td>\n",
       "      <td>10</td>\n",
       "      <td>2021</td>\n",
       "      <td>4</td>\n",
       "    </tr>\n",
       "    <tr>\n",
       "      <th>251</th>\n",
       "      <td>10676.9</td>\n",
       "      <td>61.9</td>\n",
       "      <td>946000</td>\n",
       "      <td>966900.0</td>\n",
       "      <td>7694000.0</td>\n",
       "      <td>7122315.0</td>\n",
       "      <td>149206.0</td>\n",
       "      <td>4.5</td>\n",
       "      <td>4.7</td>\n",
       "      <td>5.1</td>\n",
       "      <td>...</td>\n",
       "      <td>147712.0</td>\n",
       "      <td>147246.0</td>\n",
       "      <td>146759.0</td>\n",
       "      <td>148495.666667</td>\n",
       "      <td>749.694827</td>\n",
       "      <td>147553.333333</td>\n",
       "      <td>1223.948964</td>\n",
       "      <td>11</td>\n",
       "      <td>2021</td>\n",
       "      <td>4</td>\n",
       "    </tr>\n",
       "  </tbody>\n",
       "</table>\n",
       "<p>5 rows × 74 columns</p>\n",
       "</div>"
      ],
      "text/plain": [
       "      JTSJOL  CIVPART     ICSA      ICNSA        CCSA       CCNSA    PAYEMS  \\\n",
       "247  10676.9     61.8  1850000  1849796.0  15054000.0  15414223.0  146759.0   \n",
       "248  10676.9     61.7  1440000  1222486.0  11145000.0  10947801.0  147246.0   \n",
       "249  10676.9     61.7  1422000  1159309.0  10892000.0   9746224.0  147712.0   \n",
       "250  10676.9     61.8  1424000  1288766.0  11800000.0  10242040.0  148569.0   \n",
       "251  10676.9     61.9   946000   966900.0   7694000.0   7122315.0  149206.0   \n",
       "\n",
       "     UNRATE_lag_1  UNRATE_lag_2  UNRATE_lag_3  ...  PAYEMS_lag_2  \\\n",
       "247           5.9           5.8           6.1  ...      145032.0   \n",
       "248           5.4           5.9           5.8  ...      145828.0   \n",
       "249           5.1           5.4           5.9  ...      146759.0   \n",
       "250           4.7           5.1           5.4  ...      147246.0   \n",
       "251           4.5           4.7           5.1  ...      147712.0   \n",
       "\n",
       "     PAYEMS_lag_3  PAYEMS_lag_4  PAYEMS_rolling_mean_3  PAYEMS_rolling_std_3  \\\n",
       "247      144611.0      144246.0          145873.000000            864.378968   \n",
       "248      145032.0      144611.0          146611.000000            720.492193   \n",
       "249      145828.0      145032.0          147239.000000            476.538561   \n",
       "250      146759.0      145828.0          147842.333333            671.060603   \n",
       "251      147246.0      146759.0          148495.666667            749.694827   \n",
       "\n",
       "     PAYEMS_rolling_mean_6  PAYEMS_rolling_std_6  month  year  quarter  \n",
       "247          144983.000000           1182.275433      7  2021        3  \n",
       "248          145620.333333           1203.009670      8  2021        3  \n",
       "249          146198.000000           1242.597763      9  2021        3  \n",
       "250          146857.666667           1281.589430     10  2021        4  \n",
       "251          147553.333333           1223.948964     11  2021        4  \n",
       "\n",
       "[5 rows x 74 columns]"
      ]
     },
     "execution_count": 48,
     "metadata": {},
     "output_type": "execute_result"
    }
   ],
   "source": [
    "X_test.head()"
   ]
  },
  {
   "cell_type": "code",
   "execution_count": null,
   "id": "af05cd1b",
   "metadata": {},
   "outputs": [],
   "source": []
  }
 ],
 "metadata": {
  "kernelspec": {
   "display_name": "venv",
   "language": "python",
   "name": "python3"
  },
  "language_info": {
   "codemirror_mode": {
    "name": "ipython",
    "version": 3
   },
   "file_extension": ".py",
   "mimetype": "text/x-python",
   "name": "python",
   "nbconvert_exporter": "python",
   "pygments_lexer": "ipython3",
   "version": "3.12.7"
  }
 },
 "nbformat": 4,
 "nbformat_minor": 5
}
